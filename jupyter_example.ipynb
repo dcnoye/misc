{
  "nbformat": 4,
  "nbformat_minor": 0,
  "metadata": {
    "colab": {
      "name": "jupyter_example.ipynb",
      "provenance": [],
      "collapsed_sections": [],
      "authorship_tag": "ABX9TyNFlcFCsulcE75A06+02OT9",
      "include_colab_link": true
    },
    "kernelspec": {
      "name": "python3",
      "display_name": "Python 3"
    },
    "language_info": {
      "name": "python"
    },
    "widgets": {
      "application/vnd.jupyter.widget-state+json": {
        "0f968ae48f744b9bb93faf40115b0397": {
          "model_module": "@jupyter-widgets/controls",
          "model_name": "HBoxModel",
          "state": {
            "_view_name": "HBoxView",
            "_dom_classes": [],
            "_model_name": "HBoxModel",
            "_view_module": "@jupyter-widgets/controls",
            "_model_module_version": "1.5.0",
            "_view_count": null,
            "_view_module_version": "1.5.0",
            "box_style": "",
            "layout": "IPY_MODEL_4dde7fbea3784a7aaedfaadd9c56d6f3",
            "_model_module": "@jupyter-widgets/controls",
            "children": [
              "IPY_MODEL_4eabd53b9a714f6db8d76b8966c187be",
              "IPY_MODEL_08f3e209d6b04493894088fb101ce620",
              "IPY_MODEL_77625889ca74434e93f817b7540ee695",
              "IPY_MODEL_237e5ebd5afb4c8e98100a678b1ac335",
              "IPY_MODEL_884a2ad6b77048db99ee544ff8065b4e"
            ]
          }
        },
        "4dde7fbea3784a7aaedfaadd9c56d6f3": {
          "model_module": "@jupyter-widgets/base",
          "model_name": "LayoutModel",
          "state": {
            "_view_name": "LayoutView",
            "grid_template_rows": null,
            "right": null,
            "justify_content": null,
            "_view_module": "@jupyter-widgets/base",
            "overflow": null,
            "_model_module_version": "1.2.0",
            "_view_count": null,
            "flex_flow": null,
            "width": null,
            "min_width": null,
            "border": null,
            "align_items": null,
            "bottom": null,
            "_model_module": "@jupyter-widgets/base",
            "top": null,
            "grid_column": null,
            "overflow_y": null,
            "overflow_x": null,
            "grid_auto_flow": null,
            "grid_area": null,
            "grid_template_columns": null,
            "flex": null,
            "_model_name": "LayoutModel",
            "justify_items": null,
            "grid_row": null,
            "max_height": null,
            "align_content": null,
            "visibility": null,
            "align_self": null,
            "height": null,
            "min_height": null,
            "padding": null,
            "grid_auto_rows": null,
            "grid_gap": null,
            "max_width": null,
            "order": null,
            "_view_module_version": "1.2.0",
            "grid_template_areas": null,
            "object_position": null,
            "object_fit": null,
            "grid_auto_columns": null,
            "margin": null,
            "display": null,
            "left": null
          }
        },
        "4eabd53b9a714f6db8d76b8966c187be": {
          "model_module": "@jupyter-widgets/controls",
          "model_name": "SelectMultipleModel",
          "state": {
            "_options_labels": [
              "FB",
              "AMZN",
              "AAPL",
              "IBM",
              "GOOGL",
              "MSFT",
              "NAV",
              "O",
              "QCOM",
              "TSLA"
            ],
            "_view_name": "SelectMultipleView",
            "style": "IPY_MODEL_7bc4cd72eced465081b5c65ad2acb088",
            "rows": 10,
            "_dom_classes": [],
            "description": "symbol",
            "_model_name": "SelectMultipleModel",
            "index": [
              0,
              7
            ],
            "_view_module": "@jupyter-widgets/controls",
            "_model_module_version": "1.5.0",
            "_view_count": null,
            "disabled": false,
            "_view_module_version": "1.5.0",
            "description_tooltip": null,
            "_model_module": "@jupyter-widgets/controls",
            "layout": "IPY_MODEL_b48dcc1b460247bc88999f0677a51a61"
          }
        },
        "08f3e209d6b04493894088fb101ce620": {
          "model_module": "@jupyter-widgets/controls",
          "model_name": "SelectModel",
          "state": {
            "_options_labels": [
              "EWMA",
              "SMA"
            ],
            "_view_name": "SelectView",
            "style": "IPY_MODEL_2bedc0e822d14116949df55f4ee0d20c",
            "rows": 5,
            "_dom_classes": [],
            "description": "",
            "_model_name": "SelectModel",
            "index": 1,
            "_view_module": "@jupyter-widgets/controls",
            "_model_module_version": "1.5.0",
            "_view_count": null,
            "disabled": false,
            "_view_module_version": "1.5.0",
            "description_tooltip": null,
            "_model_module": "@jupyter-widgets/controls",
            "layout": "IPY_MODEL_ebbe3524c0344b60a041d19bf513352f"
          }
        },
        "77625889ca74434e93f817b7540ee695": {
          "model_module": "@jupyter-widgets/controls",
          "model_name": "DatePickerModel",
          "state": {
            "_view_name": "DatePickerView",
            "style": "IPY_MODEL_00a5d7a8cb594bbd9d3e98c1f4c317ab",
            "_dom_classes": [],
            "description": "Pick a Start Date",
            "_model_name": "DatePickerModel",
            "_view_module": "@jupyter-widgets/controls",
            "_model_module_version": "1.5.0",
            "value": {
              "date": 13,
              "month": 8,
              "year": 2012
            },
            "_view_count": null,
            "disabled": false,
            "_view_module_version": "1.5.0",
            "description_tooltip": null,
            "_model_module": "@jupyter-widgets/controls",
            "layout": "IPY_MODEL_57db26fdd5c149d8b6bef5ca3aed5b21"
          }
        },
        "237e5ebd5afb4c8e98100a678b1ac335": {
          "model_module": "@jupyter-widgets/controls",
          "model_name": "DatePickerModel",
          "state": {
            "_view_name": "DatePickerView",
            "style": "IPY_MODEL_11a719acdf7747fe8261af1f617374ef",
            "_dom_classes": [],
            "description": "Pick a End Date",
            "_model_name": "DatePickerModel",
            "_view_module": "@jupyter-widgets/controls",
            "_model_module_version": "1.5.0",
            "value": {
              "date": 14,
              "month": 10,
              "year": 2015
            },
            "_view_count": null,
            "disabled": false,
            "_view_module_version": "1.5.0",
            "description_tooltip": null,
            "_model_module": "@jupyter-widgets/controls",
            "layout": "IPY_MODEL_3f8a97d84d1041a3ac7e11949ad62b95"
          }
        },
        "884a2ad6b77048db99ee544ff8065b4e": {
          "model_module": "@jupyter-widgets/controls",
          "model_name": "IntSliderModel",
          "state": {
            "_view_name": "IntSliderView",
            "style": "IPY_MODEL_a4d9310847a940958278f27cbd1fcca8",
            "_dom_classes": [],
            "description": "Moving Window:",
            "step": 1,
            "_model_name": "IntSliderModel",
            "orientation": "horizontal",
            "max": 20,
            "_view_module": "@jupyter-widgets/controls",
            "_model_module_version": "1.5.0",
            "value": 14,
            "_view_count": null,
            "disabled": false,
            "_view_module_version": "1.5.0",
            "min": 10,
            "continuous_update": false,
            "readout_format": "d",
            "description_tooltip": null,
            "readout": true,
            "_model_module": "@jupyter-widgets/controls",
            "layout": "IPY_MODEL_3f4a938be0f04b649a6f59ee6a216eba"
          }
        },
        "7bc4cd72eced465081b5c65ad2acb088": {
          "model_module": "@jupyter-widgets/controls",
          "model_name": "DescriptionStyleModel",
          "state": {
            "_view_name": "StyleView",
            "_model_name": "DescriptionStyleModel",
            "description_width": "",
            "_view_module": "@jupyter-widgets/base",
            "_model_module_version": "1.5.0",
            "_view_count": null,
            "_view_module_version": "1.2.0",
            "_model_module": "@jupyter-widgets/controls"
          }
        },
        "b48dcc1b460247bc88999f0677a51a61": {
          "model_module": "@jupyter-widgets/base",
          "model_name": "LayoutModel",
          "state": {
            "_view_name": "LayoutView",
            "grid_template_rows": null,
            "right": null,
            "justify_content": null,
            "_view_module": "@jupyter-widgets/base",
            "overflow": null,
            "_model_module_version": "1.2.0",
            "_view_count": null,
            "flex_flow": null,
            "width": null,
            "min_width": null,
            "border": null,
            "align_items": null,
            "bottom": null,
            "_model_module": "@jupyter-widgets/base",
            "top": null,
            "grid_column": null,
            "overflow_y": null,
            "overflow_x": null,
            "grid_auto_flow": null,
            "grid_area": null,
            "grid_template_columns": null,
            "flex": null,
            "_model_name": "LayoutModel",
            "justify_items": null,
            "grid_row": null,
            "max_height": null,
            "align_content": null,
            "visibility": null,
            "align_self": null,
            "height": null,
            "min_height": null,
            "padding": null,
            "grid_auto_rows": null,
            "grid_gap": null,
            "max_width": null,
            "order": null,
            "_view_module_version": "1.2.0",
            "grid_template_areas": null,
            "object_position": null,
            "object_fit": null,
            "grid_auto_columns": null,
            "margin": null,
            "display": null,
            "left": null
          }
        },
        "2bedc0e822d14116949df55f4ee0d20c": {
          "model_module": "@jupyter-widgets/controls",
          "model_name": "DescriptionStyleModel",
          "state": {
            "_view_name": "StyleView",
            "_model_name": "DescriptionStyleModel",
            "description_width": "",
            "_view_module": "@jupyter-widgets/base",
            "_model_module_version": "1.5.0",
            "_view_count": null,
            "_view_module_version": "1.2.0",
            "_model_module": "@jupyter-widgets/controls"
          }
        },
        "ebbe3524c0344b60a041d19bf513352f": {
          "model_module": "@jupyter-widgets/base",
          "model_name": "LayoutModel",
          "state": {
            "_view_name": "LayoutView",
            "grid_template_rows": null,
            "right": null,
            "justify_content": null,
            "_view_module": "@jupyter-widgets/base",
            "overflow": null,
            "_model_module_version": "1.2.0",
            "_view_count": null,
            "flex_flow": null,
            "width": null,
            "min_width": null,
            "border": null,
            "align_items": null,
            "bottom": null,
            "_model_module": "@jupyter-widgets/base",
            "top": null,
            "grid_column": null,
            "overflow_y": null,
            "overflow_x": null,
            "grid_auto_flow": null,
            "grid_area": null,
            "grid_template_columns": null,
            "flex": null,
            "_model_name": "LayoutModel",
            "justify_items": null,
            "grid_row": null,
            "max_height": null,
            "align_content": null,
            "visibility": null,
            "align_self": null,
            "height": null,
            "min_height": null,
            "padding": null,
            "grid_auto_rows": null,
            "grid_gap": null,
            "max_width": null,
            "order": null,
            "_view_module_version": "1.2.0",
            "grid_template_areas": null,
            "object_position": null,
            "object_fit": null,
            "grid_auto_columns": null,
            "margin": null,
            "display": null,
            "left": null
          }
        },
        "00a5d7a8cb594bbd9d3e98c1f4c317ab": {
          "model_module": "@jupyter-widgets/controls",
          "model_name": "DescriptionStyleModel",
          "state": {
            "_view_name": "StyleView",
            "_model_name": "DescriptionStyleModel",
            "description_width": "",
            "_view_module": "@jupyter-widgets/base",
            "_model_module_version": "1.5.0",
            "_view_count": null,
            "_view_module_version": "1.2.0",
            "_model_module": "@jupyter-widgets/controls"
          }
        },
        "57db26fdd5c149d8b6bef5ca3aed5b21": {
          "model_module": "@jupyter-widgets/base",
          "model_name": "LayoutModel",
          "state": {
            "_view_name": "LayoutView",
            "grid_template_rows": null,
            "right": null,
            "justify_content": null,
            "_view_module": "@jupyter-widgets/base",
            "overflow": null,
            "_model_module_version": "1.2.0",
            "_view_count": null,
            "flex_flow": null,
            "width": null,
            "min_width": null,
            "border": null,
            "align_items": null,
            "bottom": null,
            "_model_module": "@jupyter-widgets/base",
            "top": null,
            "grid_column": null,
            "overflow_y": null,
            "overflow_x": null,
            "grid_auto_flow": null,
            "grid_area": null,
            "grid_template_columns": null,
            "flex": null,
            "_model_name": "LayoutModel",
            "justify_items": null,
            "grid_row": null,
            "max_height": null,
            "align_content": null,
            "visibility": null,
            "align_self": null,
            "height": null,
            "min_height": null,
            "padding": null,
            "grid_auto_rows": null,
            "grid_gap": null,
            "max_width": null,
            "order": null,
            "_view_module_version": "1.2.0",
            "grid_template_areas": null,
            "object_position": null,
            "object_fit": null,
            "grid_auto_columns": null,
            "margin": null,
            "display": null,
            "left": null
          }
        },
        "11a719acdf7747fe8261af1f617374ef": {
          "model_module": "@jupyter-widgets/controls",
          "model_name": "DescriptionStyleModel",
          "state": {
            "_view_name": "StyleView",
            "_model_name": "DescriptionStyleModel",
            "description_width": "",
            "_view_module": "@jupyter-widgets/base",
            "_model_module_version": "1.5.0",
            "_view_count": null,
            "_view_module_version": "1.2.0",
            "_model_module": "@jupyter-widgets/controls"
          }
        },
        "3f8a97d84d1041a3ac7e11949ad62b95": {
          "model_module": "@jupyter-widgets/base",
          "model_name": "LayoutModel",
          "state": {
            "_view_name": "LayoutView",
            "grid_template_rows": null,
            "right": null,
            "justify_content": null,
            "_view_module": "@jupyter-widgets/base",
            "overflow": null,
            "_model_module_version": "1.2.0",
            "_view_count": null,
            "flex_flow": null,
            "width": null,
            "min_width": null,
            "border": null,
            "align_items": null,
            "bottom": null,
            "_model_module": "@jupyter-widgets/base",
            "top": null,
            "grid_column": null,
            "overflow_y": null,
            "overflow_x": null,
            "grid_auto_flow": null,
            "grid_area": null,
            "grid_template_columns": null,
            "flex": null,
            "_model_name": "LayoutModel",
            "justify_items": null,
            "grid_row": null,
            "max_height": null,
            "align_content": null,
            "visibility": null,
            "align_self": null,
            "height": null,
            "min_height": null,
            "padding": null,
            "grid_auto_rows": null,
            "grid_gap": null,
            "max_width": null,
            "order": null,
            "_view_module_version": "1.2.0",
            "grid_template_areas": null,
            "object_position": null,
            "object_fit": null,
            "grid_auto_columns": null,
            "margin": null,
            "display": null,
            "left": null
          }
        },
        "a4d9310847a940958278f27cbd1fcca8": {
          "model_module": "@jupyter-widgets/controls",
          "model_name": "SliderStyleModel",
          "state": {
            "_view_name": "StyleView",
            "handle_color": null,
            "_model_name": "SliderStyleModel",
            "description_width": "",
            "_view_module": "@jupyter-widgets/base",
            "_model_module_version": "1.5.0",
            "_view_count": null,
            "_view_module_version": "1.2.0",
            "_model_module": "@jupyter-widgets/controls"
          }
        },
        "3f4a938be0f04b649a6f59ee6a216eba": {
          "model_module": "@jupyter-widgets/base",
          "model_name": "LayoutModel",
          "state": {
            "_view_name": "LayoutView",
            "grid_template_rows": null,
            "right": null,
            "justify_content": null,
            "_view_module": "@jupyter-widgets/base",
            "overflow": null,
            "_model_module_version": "1.2.0",
            "_view_count": null,
            "flex_flow": null,
            "width": null,
            "min_width": null,
            "border": null,
            "align_items": null,
            "bottom": null,
            "_model_module": "@jupyter-widgets/base",
            "top": null,
            "grid_column": null,
            "overflow_y": null,
            "overflow_x": null,
            "grid_auto_flow": null,
            "grid_area": null,
            "grid_template_columns": null,
            "flex": null,
            "_model_name": "LayoutModel",
            "justify_items": null,
            "grid_row": null,
            "max_height": null,
            "align_content": null,
            "visibility": null,
            "align_self": null,
            "height": null,
            "min_height": null,
            "padding": null,
            "grid_auto_rows": null,
            "grid_gap": null,
            "max_width": null,
            "order": null,
            "_view_module_version": "1.2.0",
            "grid_template_areas": null,
            "object_position": null,
            "object_fit": null,
            "grid_auto_columns": null,
            "margin": null,
            "display": null,
            "left": null
          }
        }
      }
    }
  },
  "cells": [
    {
      "cell_type": "markdown",
      "metadata": {
        "id": "view-in-github",
        "colab_type": "text"
      },
      "source": [
        "<a href=\"https://colab.research.google.com/github/dcnoye/misc/blob/master/jupyter_example.ipynb\" target=\"_parent\"><img src=\"https://colab.research.google.com/assets/colab-badge.svg\" alt=\"Open In Colab\"/></a>"
      ]
    },
    {
      "cell_type": "code",
      "metadata": {
        "id": "E6PnV7DTCUww"
      },
      "source": [
        "import pandas as pd\n",
        "import numpy as np\n",
        "import ipywidgets as widgets\n",
        "from datetime import datetime as dt\n",
        "import pandas_datareader.data as web\n",
        "\n",
        "# plotly packages\n",
        "from plotly.offline import plot\n",
        "import plotly.express as px\n",
        "\n",
        "api_key=\"\""
      ],
      "execution_count": 8,
      "outputs": []
    },
    {
      "cell_type": "code",
      "metadata": {
        "id": "8J67z3oEExG5"
      },
      "source": [
        "class SelectMultipleInteract(widgets.HBox):\n",
        "\n",
        "    def __init__(self):\n",
        "        self.W1 = widgets.SelectMultiple(\n",
        "            options=['FB', 'AMZN', 'AAPL','IBM','GOOGL','MSFT','NAV','O','QCOM','TSLA'],\n",
        "            value=('FB','O'),\n",
        "            description='symbol',\n",
        "            rows=10,\n",
        "            disabled=False\n",
        "        )\n",
        "        self.W2 = widgets.Select(\n",
        "            options=['EWMA', 'SMA'],\n",
        "            value='SMA',\n",
        "            disabled=False\n",
        "        )\n",
        "        self.W3 = widgets.DatePicker(\n",
        "            description='Pick a Start Date',\n",
        "            value=dt.fromtimestamp(1347517370),\n",
        "            disabled=False\n",
        "        )\n",
        "        self.W4 = widgets.DatePicker(\n",
        "            description='Pick a End Date',\n",
        "            value=dt.fromtimestamp(1447517370),\n",
        "            disabled=False\n",
        "        )\n",
        "        self.W5 = widgets.IntSlider(\n",
        "            value=14,\n",
        "            min=10,\n",
        "            max=20,\n",
        "            step=1,\n",
        "            description='Moving Window:',\n",
        "            disabled=False,\n",
        "            continuous_update=False,\n",
        "            orientation='horizontal',\n",
        "            readout=True,\n",
        "            readout_format='d'\n",
        "        )\n",
        "        self.selectors = [self.W1, self.W2, self.W3, self.W4, self.W5]\n",
        "        print(self.selectors)\n",
        "        super().__init__(children=self.selectors)\n",
        "        self._set_observes()\n",
        "\n",
        "    def _set_observes(self):\n",
        "        for widg in self.selectors:\n",
        "            widg.observe(self._observed_function, names='value')\n",
        "\n",
        "    def _observed_function(self, widg):\n",
        "        for widg in self.selectors:\n",
        "            print(widg.description)\n",
        "            print(widg.get_interact_value())"
      ],
      "execution_count": 3,
      "outputs": []
    },
    {
      "cell_type": "code",
      "metadata": {
        "id": "t8Dzw1HQUlcS"
      },
      "source": [
        "%%capture hide\n",
        "x = SelectMultipleInteract()"
      ],
      "execution_count": 9,
      "outputs": []
    },
    {
      "cell_type": "code",
      "metadata": {
        "colab": {
          "base_uri": "https://localhost:8080/",
          "height": 201,
          "referenced_widgets": [
            "0f968ae48f744b9bb93faf40115b0397",
            "4dde7fbea3784a7aaedfaadd9c56d6f3",
            "4eabd53b9a714f6db8d76b8966c187be",
            "08f3e209d6b04493894088fb101ce620",
            "77625889ca74434e93f817b7540ee695",
            "237e5ebd5afb4c8e98100a678b1ac335",
            "884a2ad6b77048db99ee544ff8065b4e",
            "7bc4cd72eced465081b5c65ad2acb088",
            "b48dcc1b460247bc88999f0677a51a61",
            "2bedc0e822d14116949df55f4ee0d20c",
            "ebbe3524c0344b60a041d19bf513352f",
            "00a5d7a8cb594bbd9d3e98c1f4c317ab",
            "57db26fdd5c149d8b6bef5ca3aed5b21",
            "11a719acdf7747fe8261af1f617374ef",
            "3f8a97d84d1041a3ac7e11949ad62b95",
            "a4d9310847a940958278f27cbd1fcca8",
            "3f4a938be0f04b649a6f59ee6a216eba"
          ]
        },
        "id": "FDX1TQyaU6kr",
        "outputId": "e1f32029-ea41-408b-ab1f-875432e40dbe"
      },
      "source": [
        "display(x)"
      ],
      "execution_count": 10,
      "outputs": [
        {
          "output_type": "display_data",
          "data": {
            "application/vnd.jupyter.widget-view+json": {
              "model_id": "0f968ae48f744b9bb93faf40115b0397",
              "version_minor": 0,
              "version_major": 2
            },
            "text/plain": [
              "SelectMultipleInteract(children=(SelectMultiple(description='symbol', index=(0, 7), options=('FB', 'AMZN', 'AA…"
            ]
          },
          "metadata": {
            "tags": []
          }
        }
      ]
    },
    {
      "cell_type": "code",
      "metadata": {
        "colab": {
          "base_uri": "https://localhost:8080/"
        },
        "id": "Tns9g2vuDvJ8",
        "outputId": "03fd88d0-ab4f-4f95-ad8f-732b422cc5a1"
      },
      "source": [
        "print(\"ticker symbols\", x.W1.value)\n",
        "\n",
        "print(x.W2.value)\n",
        "\n",
        "print(\"Start Date\", x.W3.value)\n",
        "\n",
        "print(\"End Date\", x.W4.value)\n",
        "\n",
        "print(\"Moving Window\", x.W5.value)"
      ],
      "execution_count": 11,
      "outputs": [
        {
          "output_type": "stream",
          "text": [
            "ticker symbols ('FB', 'O')\n",
            "SMA\n",
            "Start Date 2012-09-13 06:22:50\n",
            "End Date 2015-11-14 16:09:30\n",
            "Moving Window 14\n"
          ],
          "name": "stdout"
        }
      ]
    },
    {
      "cell_type": "code",
      "metadata": {
        "colab": {
          "base_uri": "https://localhost:8080/"
        },
        "id": "rv-tvr1PZ2Sh",
        "outputId": "8f89fdf0-9903-4baf-8d70-65a04c19231b"
      },
      "source": [
        "dm1 =  pd.DataFrame()\n",
        "tickers = list(x.W1.value)\n",
        "start = x.W3.value\n",
        "end = x.W4.value\n",
        "i = 0\n",
        "while (i < len(tickers)):\n",
        "    df = web.DataReader(tickers[i], \"av-daily\", start=start, end=end,  api_key=api_key)\n",
        "    df['symbol'] = tickers[i]\n",
        "    if dm1.empty:\n",
        "        dm1 = df\n",
        "    else:\n",
        "        dm1 = pd.concat([dm1, df])\n",
        "\n",
        "    i+=1      \n",
        "\n",
        "print(dm1)"
      ],
      "execution_count": 12,
      "outputs": [
        {
          "output_type": "stream",
          "text": [
            "              open   high    low   close    volume symbol\n",
            "2012-09-13  20.955  21.48  20.61  20.713  65041600     FB\n",
            "2012-09-14  21.130  22.08  20.90  22.000  72819800     FB\n",
            "2012-09-17  22.670  22.75  21.50  21.520  50667600     FB\n",
            "2012-09-18  21.600  21.98  21.37  21.870  36760500     FB\n",
            "2012-09-19  21.990  23.37  21.77  23.290  78782800     FB\n",
            "...            ...    ...    ...     ...       ...    ...\n",
            "2015-11-09  47.410  47.41  45.98  46.390   2676922      O\n",
            "2015-11-10  46.460  47.07  46.39  46.940   2323375      O\n",
            "2015-11-11  47.030  47.70  46.81  47.440   1658757      O\n",
            "2015-11-12  47.360  47.80  47.17  47.440   2010424      O\n",
            "2015-11-13  47.500  47.85  47.02  47.440   2187922      O\n",
            "\n",
            "[1596 rows x 6 columns]\n"
          ],
          "name": "stdout"
        }
      ]
    },
    {
      "cell_type": "code",
      "metadata": {
        "id": "5UqLNlaWjHS1"
      },
      "source": [
        "def RSI(ohlc, period=14, method='SMA'):\n",
        "    delta = ohlc[\"close\"].diff()\n",
        "    up, down = delta.copy(), delta.copy()\n",
        "    up[up <0] = 0\n",
        "    if method == \"SMA\":\n",
        "        gain = up.rolling(period).mean()\n",
        "        loss = down.abs().rolling(period).mean()\n",
        "    else:\n",
        "        gain = up.ewm(span=period).mean()\n",
        "        loss = down.abs().ewm(span=period).mean()\n",
        "\n",
        "    RS = gain / loss\n",
        "    ohlc['RSI'] = pd.Series(100 - (100 / (1 + RS)), name=\"RSI\")\n",
        "    return ohlc"
      ],
      "execution_count": 13,
      "outputs": []
    },
    {
      "cell_type": "code",
      "metadata": {
        "colab": {
          "base_uri": "https://localhost:8080/"
        },
        "id": "Uz1b1TlvbyP6",
        "outputId": "3e53230b-1f26-408f-8e11-a306e3544c1f"
      },
      "source": [
        "dm2 =  pd.DataFrame()\n",
        "for symbol, df_symbol in dm1.groupby('symbol'):\n",
        "    dx = RSI(df_symbol, int(x.W5.value),x.W2.value)\n",
        "    if dm2.empty:\n",
        "        dm2 = dx\n",
        "    else:\n",
        "        dm2 = pd.concat([dm2, dx])\n",
        "dm2=dm2.reset_index()\n",
        "print(dm2)"
      ],
      "execution_count": 15,
      "outputs": [
        {
          "output_type": "stream",
          "text": [
            "           index    open   high    low   close    volume symbol        RSI\n",
            "0     2012-09-13  20.955  21.48  20.61  20.713  65041600     FB        NaN\n",
            "1     2012-09-14  21.130  22.08  20.90  22.000  72819800     FB        NaN\n",
            "2     2012-09-17  22.670  22.75  21.50  21.520  50667600     FB        NaN\n",
            "3     2012-09-18  21.600  21.98  21.37  21.870  36760500     FB        NaN\n",
            "4     2012-09-19  21.990  23.37  21.77  23.290  78782800     FB        NaN\n",
            "...          ...     ...    ...    ...     ...       ...    ...        ...\n",
            "1591  2015-11-09  47.410  47.41  45.98  46.390   2676922      O  27.052786\n",
            "1592  2015-11-10  46.460  47.07  46.39  46.940   2323375      O  28.922237\n",
            "1593  2015-11-11  47.030  47.70  46.81  47.440   1658757      O  26.303681\n",
            "1594  2015-11-12  47.360  47.80  47.17  47.440   2010424      O  26.901961\n",
            "1595  2015-11-13  47.500  47.85  47.02  47.440   2187922      O  25.560166\n",
            "\n",
            "[1596 rows x 8 columns]\n"
          ],
          "name": "stdout"
        }
      ]
    },
    {
      "cell_type": "code",
      "metadata": {
        "colab": {
          "base_uri": "https://localhost:8080/",
          "height": 296
        },
        "id": "QsoePOZxcCO8",
        "outputId": "f449ef96-c81e-486b-8827-cd4692628b62"
      },
      "source": [
        "df = dm2.pivot(index='index', columns='symbol', values='RSI')\n",
        "df.plot()"
      ],
      "execution_count": 16,
      "outputs": [
        {
          "output_type": "execute_result",
          "data": {
            "text/plain": [
              "<matplotlib.axes._subplots.AxesSubplot at 0x7fa8a91f7610>"
            ]
          },
          "metadata": {
            "tags": []
          },
          "execution_count": 16
        },
        {
          "output_type": "display_data",
          "data": {
            "image/png": "[encoded data removed]",
            "text/plain": [
              "<Figure size 432x288 with 1 Axes>"
            ]
          },
          "metadata": {
            "tags": [],
            "needs_background": "light"
          }
        }
      ]
    },
    {
      "cell_type": "code",
      "metadata": {
        "colab": {
          "base_uri": "https://localhost:8080/",
          "height": 542
        },
        "id": "JYlQHhXa62Pa",
        "outputId": "717a0053-1243-4308-dd7f-3bb6577c0337"
      },
      "source": [
        "fig = px.line(dm2, x=\"index\", y=\"RSI\", color='symbol')\n",
        "fig.show()"
      ],
      "execution_count": 17,
      "outputs": [
        {
          "output_type": "display_data",
          "data": {
            "text/html": [
              "<html>\n",
              "<head><meta charset=\"utf-8\" /></head>\n",
              "<body>\n",
              "    <div>\n",
              "            <script src=\"https://cdnjs.cloudflare.com/ajax/libs/mathjax/2.7.5/MathJax.js?config=TeX-AMS-MML_SVG\"></script><script type=\"text/javascript\">if (window.MathJax) {MathJax.Hub.Config({SVG: {font: \"STIX-Web\"}});}</script>\n",
              "                <script type=\"text/javascript\">window.PlotlyConfig = {MathJaxConfig: 'local'};</script>\n",
              "        <script src=\"https://cdn.plot.ly/plotly-latest.min.js\"></script>    \n",
              "            <div id=\"7f49c916-44e9-4930-8527-69c6a2e297aa\" class=\"plotly-graph-div\" style=\"height:525px; width:100%;\"></div>\n",
              "            <script type=\"text/javascript\">\n",
              "                \n",
              "                    window.PLOTLYENV=window.PLOTLYENV || {};\n",
              "                    \n",
              "                if (document.getElementById(\"7f49c916-44e9-4930-8527-69c6a2e297aa\")) {\n",
              "                    Plotly.newPlot(\n",
              "                        '7f49c916-44e9-4930-8527-69c6a2e297aa',\n",
              "                        [{\"hoverlabel\": {\"namelength\": 0}, \"hovertemplate\": \"symbol=FB<br>index=%{x}<br>RSI=%{y}\", \"legendgroup\": \"symbol=FB\", \"line\": {\"color\": \"#636efa\", \"dash\": \"solid\"}, \"mode\": \"lines\", \"name\": \"symbol=FB\", \"showlegend\": true, \"type\": \"scattergl\", \"x\": [\"2012-09-13\", \"2012-09-14\", \"2012-09-17\", \"2012-09-18\", \"2012-09-19\", \"2012-09-20\", \"2012-09-21\", \"2012-09-24\", \"2012-09-25\", \"2012-09-26\", \"2012-09-27\", \"2012-09-28\", \"2012-10-01\", \"2012-10-02\", \"2012-10-03\", \"2012-10-04\", \"2012-10-05\", \"2012-10-08\", \"2012-10-09\", \"2012-10-10\", \"2012-10-11\", \"2012-10-12\", \"2012-10-15\", \"2012-10-16\", \"2012-10-17\", \"2012-10-18\", \"2012-10-19\", \"2012-10-22\", \"2012-10-23\", \"2012-10-24\", \"2012-10-25\", \"2012-10-26\", \"2012-10-31\", \"2012-11-01\", \"2012-11-02\", \"2012-11-05\", \"2012-11-06\", \"2012-11-07\", \"2012-11-08\", \"2012-11-09\", \"2012-11-12\", \"2012-11-13\", \"2012-11-14\", \"2012-11-15\", \"2012-11-16\", \"2012-11-19\", \"2012-11-20\", \"2012-11-21\", \"2012-11-23\", \"2012-11-26\", \"2012-11-27\", \"2012-11-28\", \"2012-11-29\", \"2012-11-30\", \"2012-12-03\", \"2012-12-04\", \"2012-12-05\", \"2012-12-06\", \"2012-12-07\", \"2012-12-10\", \"2012-12-11\", \"2012-12-12\", \"2012-12-13\", \"2012-12-14\", \"2012-12-17\", \"2012-12-18\", \"2012-12-19\", \"2012-12-20\", \"2012-12-21\", \"2012-12-24\", \"2012-12-26\", \"2012-12-27\", \"2012-12-28\", \"2012-12-31\", \"2013-01-02\", \"2013-01-03\", \"2013-01-04\", \"2013-01-07\", \"2013-01-08\", \"2013-01-09\", \"2013-01-10\", \"2013-01-11\", \"2013-01-14\", \"2013-01-15\", \"2013-01-16\", \"2013-01-17\", \"2013-01-18\", \"2013-01-22\", \"2013-01-23\", \"2013-01-24\", \"2013-01-25\", \"2013-01-28\", \"2013-01-29\", \"2013-01-30\", \"2013-01-31\", \"2013-02-01\", \"2013-02-04\", \"2013-02-05\", \"2013-02-06\", \"2013-02-07\", \"2013-02-08\", \"2013-02-11\", \"2013-02-12\", \"2013-02-13\", \"2013-02-14\", \"2013-02-15\", \"2013-02-19\", \"2013-02-20\", \"2013-02-21\", \"2013-02-22\", \"2013-02-25\", \"2013-02-26\", \"2013-02-27\", \"2013-02-28\", \"2013-03-01\", \"2013-03-04\", \"2013-03-05\", \"2013-03-06\", \"2013-03-07\", \"2013-03-08\", \"2013-03-11\", \"2013-03-12\", \"2013-03-13\", \"2013-03-14\", \"2013-03-15\", \"2013-03-18\", \"2013-03-19\", \"2013-03-20\", \"2013-03-21\", \"2013-03-22\", \"2013-03-25\", \"2013-03-26\", \"2013-03-27\", \"2013-03-28\", \"2013-04-01\", \"2013-04-02\", \"2013-04-03\", \"2013-04-04\", \"2013-04-05\", \"2013-04-08\", \"2013-04-09\", \"2013-04-10\", \"2013-04-11\", \"2013-04-12\", \"2013-04-15\", \"2013-04-16\", \"2013-04-17\", \"2013-04-18\", \"2013-04-19\", \"2013-04-22\", \"2013-04-23\", \"2013-04-24\", \"2013-04-25\", \"2013-04-26\", \"2013-04-29\", \"2013-04-30\", \"2013-05-01\", \"2013-05-02\", \"2013-05-03\", \"2013-05-06\", \"2013-05-07\", \"2013-05-08\", \"2013-05-09\", \"2013-05-10\", \"2013-05-13\", \"2013-05-14\", \"2013-05-15\", \"2013-05-16\", \"2013-05-17\", \"2013-05-20\", \"2013-05-21\", \"2013-05-22\", \"2013-05-23\", \"2013-05-24\", \"2013-05-28\", \"2013-05-29\", \"2013-05-30\", \"2013-05-31\", \"2013-06-03\", \"2013-06-04\", \"2013-06-05\", \"2013-06-06\", \"2013-06-07\", \"2013-06-10\", \"2013-06-11\", \"2013-06-12\", \"2013-06-13\", \"2013-06-14\", \"2013-06-17\", \"2013-06-18\", \"2013-06-19\", \"2013-06-20\", \"2013-06-21\", \"2013-06-24\", \"2013-06-25\", \"2013-06-26\", \"2013-06-27\", \"2013-06-28\", \"2013-07-01\", \"2013-07-02\", \"2013-07-03\", \"2013-07-05\", \"2013-07-08\", \"2013-07-09\", \"2013-07-10\", \"2013-07-11\", \"2013-07-12\", \"2013-07-15\", \"2013-07-16\", \"2013-07-17\", \"2013-07-18\", \"2013-07-19\", \"2013-07-22\", \"2013-07-23\", \"2013-07-24\", \"2013-07-25\", \"2013-07-26\", \"2013-07-29\", \"2013-07-30\", \"2013-07-31\", \"2013-08-01\", \"2013-08-02\", \"2013-08-05\", \"2013-08-06\", \"2013-08-07\", \"2013-08-08\", \"2013-08-09\", \"2013-08-12\", \"2013-08-13\", \"2013-08-14\", \"2013-08-15\", \"2013-08-16\", \"2013-08-19\", \"2013-08-20\", \"2013-08-21\", \"2013-08-22\", \"2013-08-23\", \"2013-08-26\", \"2013-08-27\", \"2013-08-28\", \"2013-08-29\", \"2013-08-30\", \"2013-09-03\", \"2013-09-04\", \"2013-09-05\", \"2013-09-06\", \"2013-09-09\", \"2013-09-10\", \"2013-09-11\", \"2013-09-12\", \"2013-09-13\", \"2013-09-16\", \"2013-09-17\", \"2013-09-18\", \"2013-09-19\", \"2013-09-20\", \"2013-09-23\", \"2013-09-24\", \"2013-09-25\", \"2013-09-26\", \"2013-09-27\", \"2013-09-30\", \"2013-10-01\", \"2013-10-02\", \"2013-10-03\", \"2013-10-04\", \"2013-10-07\", \"2013-10-08\", \"2013-10-09\", \"2013-10-10\", \"2013-10-11\", \"2013-10-14\", \"2013-10-15\", \"2013-10-16\", \"2013-10-17\", \"2013-10-18\", \"2013-10-21\", \"2013-10-22\", \"2013-10-23\", \"2013-10-24\", \"2013-10-25\", \"2013-10-28\", \"2013-10-29\", \"2013-10-30\", \"2013-10-31\", \"2013-11-01\", \"2013-11-04\", \"2013-11-05\", \"2013-11-06\", \"2013-11-07\", \"2013-11-08\", \"2013-11-11\", \"2013-11-12\", \"2013-11-13\", \"2013-11-14\", \"2013-11-15\", \"2013-11-18\", \"2013-11-19\", \"2013-11-20\", \"2013-11-21\", \"2013-11-22\", \"2013-11-25\", \"2013-11-26\", \"2013-11-27\", \"2013-11-29\", \"2013-12-02\", \"2013-12-03\", \"2013-12-04\", \"2013-12-05\", \"2013-12-06\", \"2013-12-09\", \"2013-12-10\", \"2013-12-11\", \"2013-12-12\", \"2013-12-13\", \"2013-12-16\", \"2013-12-17\", \"2013-12-18\", \"2013-12-19\", \"2013-12-20\", \"2013-12-23\", \"2013-12-24\", \"2013-12-26\", \"2013-12-27\", \"2013-12-30\", \"2013-12-31\", \"2014-01-02\", \"2014-01-03\", \"2014-01-06\", \"2014-01-07\", \"2014-01-08\", \"2014-01-09\", \"2014-01-10\", \"2014-01-13\", \"2014-01-14\", \"2014-01-15\", \"2014-01-16\", \"2014-01-17\", \"2014-01-21\", \"2014-01-22\", \"2014-01-23\", \"2014-01-24\", \"2014-01-27\", \"2014-01-28\", \"2014-01-29\", \"2014-01-30\", \"2014-01-31\", \"2014-02-03\", \"2014-02-04\", \"2014-02-05\", \"2014-02-06\", \"2014-02-07\", \"2014-02-10\", \"2014-02-11\", \"2014-02-12\", \"2014-02-13\", \"2014-02-14\", \"2014-02-18\", \"2014-02-19\", \"2014-02-20\", \"2014-02-21\", \"2014-02-24\", \"2014-02-25\", \"2014-02-26\", \"2014-02-27\", \"2014-02-28\", \"2014-03-03\", \"2014-03-04\", \"2014-03-05\", \"2014-03-06\", \"2014-03-07\", \"2014-03-10\", \"2014-03-11\", \"2014-03-12\", \"2014-03-13\", \"2014-03-14\", \"2014-03-17\", \"2014-03-18\", \"2014-03-19\", \"2014-03-20\", \"2014-03-21\", \"2014-03-24\", \"2014-03-25\", \"2014-03-26\", \"2014-03-27\", \"2014-03-28\", \"2014-03-31\", \"2014-04-01\", \"2014-04-02\", \"2014-04-03\", \"2014-04-04\", \"2014-04-07\", \"2014-04-08\", \"2014-04-09\", \"2014-04-10\", \"2014-04-11\", \"2014-04-14\", \"2014-04-15\", \"2014-04-16\", \"2014-04-17\", \"2014-04-21\", \"2014-04-22\", \"2014-04-23\", \"2014-04-24\", \"2014-04-25\", \"2014-04-28\", \"2014-04-29\", \"2014-04-30\", \"2014-05-01\", \"2014-05-02\", \"2014-05-05\", \"2014-05-06\", \"2014-05-07\", \"2014-05-08\", \"2014-05-09\", \"2014-05-12\", \"2014-05-13\", \"2014-05-14\", \"2014-05-15\", \"2014-05-16\", \"2014-05-19\", \"2014-05-20\", \"2014-05-21\", \"2014-05-22\", \"2014-05-23\", \"2014-05-27\", \"2014-05-28\", \"2014-05-29\", \"2014-05-30\", \"2014-06-02\", \"2014-06-03\", \"2014-06-04\", \"2014-06-05\", \"2014-06-06\", \"2014-06-09\", \"2014-06-10\", \"2014-06-11\", \"2014-06-12\", \"2014-06-13\", \"2014-06-16\", \"2014-06-17\", \"2014-06-18\", \"2014-06-19\", \"2014-06-20\", \"2014-06-23\", \"2014-06-24\", \"2014-06-25\", \"2014-06-26\", \"2014-06-27\", \"2014-06-30\", \"2014-07-01\", \"2014-07-02\", \"2014-07-03\", \"2014-07-07\", \"2014-07-08\", \"2014-07-09\", \"2014-07-10\", \"2014-07-11\", \"2014-07-14\", \"2014-07-15\", \"2014-07-16\", \"2014-07-17\", \"2014-07-18\", \"2014-07-21\", \"2014-07-22\", \"2014-07-23\", \"2014-07-24\", \"2014-07-25\", \"2014-07-28\", \"2014-07-29\", \"2014-07-30\", \"2014-07-31\", \"2014-08-01\", \"2014-08-04\", \"2014-08-05\", \"2014-08-06\", \"2014-08-07\", \"2014-08-08\", \"2014-08-11\", \"2014-08-12\", \"2014-08-13\", \"2014-08-14\", \"2014-08-15\", \"2014-08-18\", \"2014-08-19\", \"2014-08-20\", \"2014-08-21\", \"2014-08-22\", \"2014-08-25\", \"2014-08-26\", \"2014-08-27\", \"2014-08-28\", \"2014-08-29\", \"2014-09-02\", \"2014-09-03\", \"2014-09-04\", \"2014-09-05\", \"2014-09-08\", \"2014-09-09\", \"2014-09-10\", \"2014-09-11\", \"2014-09-12\", \"2014-09-15\", \"2014-09-16\", \"2014-09-17\", \"2014-09-18\", \"2014-09-19\", \"2014-09-22\", \"2014-09-23\", \"2014-09-24\", \"2014-09-25\", \"2014-09-26\", \"2014-09-29\", \"2014-09-30\", \"2014-10-01\", \"2014-10-02\", \"2014-10-03\", \"2014-10-06\", \"2014-10-07\", \"2014-10-08\", \"2014-10-09\", \"2014-10-10\", \"2014-10-13\", \"2014-10-14\", \"2014-10-15\", \"2014-10-16\", \"2014-10-17\", \"2014-10-20\", \"2014-10-21\", \"2014-10-22\", \"2014-10-23\", \"2014-10-24\", \"2014-10-27\", \"2014-10-28\", \"2014-10-29\", \"2014-10-30\", \"2014-10-31\", \"2014-11-03\", \"2014-11-04\", \"2014-11-05\", \"2014-11-06\", \"2014-11-07\", \"2014-11-10\", \"2014-11-11\", \"2014-11-12\", \"2014-11-13\", \"2014-11-14\", \"2014-11-17\", \"2014-11-18\", \"2014-11-19\", \"2014-11-20\", \"2014-11-21\", \"2014-11-24\", \"2014-11-25\", \"2014-11-26\", \"2014-11-28\", \"2014-12-01\", \"2014-12-02\", \"2014-12-03\", \"2014-12-04\", \"2014-12-05\", \"2014-12-08\", \"2014-12-09\", \"2014-12-10\", \"2014-12-11\", \"2014-12-12\", \"2014-12-15\", \"2014-12-16\", \"2014-12-17\", \"2014-12-18\", \"2014-12-19\", \"2014-12-22\", \"2014-12-23\", \"2014-12-24\", \"2014-12-26\", \"2014-12-29\", \"2014-12-30\", \"2014-12-31\", \"2015-01-02\", \"2015-01-05\", \"2015-01-06\", \"2015-01-07\", \"2015-01-08\", \"2015-01-09\", \"2015-01-12\", \"2015-01-13\", \"2015-01-14\", \"2015-01-15\", \"2015-01-16\", \"2015-01-20\", \"2015-01-21\", \"2015-01-22\", \"2015-01-23\", \"2015-01-26\", \"2015-01-27\", \"2015-01-28\", \"2015-01-29\", \"2015-01-30\", \"2015-02-02\", \"2015-02-03\", \"2015-02-04\", \"2015-02-05\", \"2015-02-06\", \"2015-02-09\", \"2015-02-10\", \"2015-02-11\", \"2015-02-12\", \"2015-02-13\", \"2015-02-17\", \"2015-02-18\", \"2015-02-19\", \"2015-02-20\", \"2015-02-23\", \"2015-02-24\", \"2015-02-25\", \"2015-02-26\", \"2015-02-27\", \"2015-03-02\", \"2015-03-03\", \"2015-03-04\", \"2015-03-05\", \"2015-03-06\", \"2015-03-09\", \"2015-03-10\", \"2015-03-11\", \"2015-03-12\", \"2015-03-13\", \"2015-03-16\", \"2015-03-17\", \"2015-03-18\", \"2015-03-19\", \"2015-03-20\", \"2015-03-23\", \"2015-03-24\", \"2015-03-25\", \"2015-03-26\", \"2015-03-27\", \"2015-03-30\", \"2015-03-31\", \"2015-04-01\", \"2015-04-02\", \"2015-04-06\", \"2015-04-07\", \"2015-04-08\", \"2015-04-09\", \"2015-04-10\", \"2015-04-13\", \"2015-04-14\", \"2015-04-15\", \"2015-04-16\", \"2015-04-17\", \"2015-04-20\", \"2015-04-21\", \"2015-04-22\", \"2015-04-23\", \"2015-04-24\", \"2015-04-27\", \"2015-04-28\", \"2015-04-29\", \"2015-04-30\", \"2015-05-01\", \"2015-05-04\", \"2015-05-05\", \"2015-05-06\", \"2015-05-07\", \"2015-05-08\", \"2015-05-11\", \"2015-05-12\", \"2015-05-13\", \"2015-05-14\", \"2015-05-15\", \"2015-05-18\", \"2015-05-19\", \"2015-05-20\", \"2015-05-21\", \"2015-05-22\", \"2015-05-26\", \"2015-05-27\", \"2015-05-28\", \"2015-05-29\", \"2015-06-01\", \"2015-06-02\", \"2015-06-03\", \"2015-06-04\", \"2015-06-05\", \"2015-06-08\", \"2015-06-09\", \"2015-06-10\", \"2015-06-11\", \"2015-06-12\", \"2015-06-15\", \"2015-06-16\", \"2015-06-17\", \"2015-06-18\", \"2015-06-19\", \"2015-06-22\", \"2015-06-23\", \"2015-06-24\", \"2015-06-25\", \"2015-06-26\", \"2015-06-29\", \"2015-06-30\", \"2015-07-01\", \"2015-07-02\", \"2015-07-06\", \"2015-07-07\", \"2015-07-08\", \"2015-07-09\", \"2015-07-10\", \"2015-07-13\", \"2015-07-14\", \"2015-07-15\", \"2015-07-16\", \"2015-07-17\", \"2015-07-20\", \"2015-07-21\", \"2015-07-22\", \"2015-07-23\", \"2015-07-24\", \"2015-07-27\", \"2015-07-28\", \"2015-07-29\", \"2015-07-30\", \"2015-07-31\", \"2015-08-03\", \"2015-08-04\", \"2015-08-05\", \"2015-08-06\", \"2015-08-07\", \"2015-08-10\", \"2015-08-11\", \"2015-08-12\", \"2015-08-13\", \"2015-08-14\", \"2015-08-17\", \"2015-08-18\", \"2015-08-19\", \"2015-08-20\", \"2015-08-21\", \"2015-08-24\", \"2015-08-25\", \"2015-08-26\", \"2015-08-27\", \"2015-08-28\", \"2015-08-31\", \"2015-09-01\", \"2015-09-02\", \"2015-09-03\", \"2015-09-04\", \"2015-09-08\", \"2015-09-09\", \"2015-09-10\", \"2015-09-11\", \"2015-09-14\", \"2015-09-15\", \"2015-09-16\", \"2015-09-17\", \"2015-09-18\", \"2015-09-21\", \"2015-09-22\", \"2015-09-23\", \"2015-09-24\", \"2015-09-25\", \"2015-09-28\", \"2015-09-29\", \"2015-09-30\", \"2015-10-01\", \"2015-10-02\", \"2015-10-05\", \"2015-10-06\", \"2015-10-07\", \"2015-10-08\", \"2015-10-09\", \"2015-10-12\", \"2015-10-13\", \"2015-10-14\", \"2015-10-15\", \"2015-10-16\", \"2015-10-19\", \"2015-10-20\", \"2015-10-21\", \"2015-10-22\", \"2015-10-23\", \"2015-10-26\", \"2015-10-27\", \"2015-10-28\", \"2015-10-29\", \"2015-10-30\", \"2015-11-02\", \"2015-11-03\", \"2015-11-04\", \"2015-11-05\", \"2015-11-06\", \"2015-11-09\", \"2015-11-10\", \"2015-11-11\", \"2015-11-12\", \"2015-11-13\"], \"xaxis\": \"x\", \"y\": [null, null, null, null, null, null, null, null, null, null, null, null, null, null, 35.69975848480996, 33.20268756998881, 31.876007883891774, 29.772933696639413, 24.131404623496024, 24.379694969269295, 23.610785463071522, 28.528851819953772, 30.28780264961169, 28.384256726837023, 31.539947665745515, 19.35594702648676, 16.12925498860733, 16.601988017429207, 19.92681074363047, 36.61699185742818, 37.681021943970144, 37.36351593914359, 35.52700225080865, 37.349582514734784, 37.04557490420859, 37.861709220692624, 37.62545326938824, 35.78055129146365, 33.61185594810365, 33.9340629002201, 35.75803721353935, 34.59170594703629, 38.37217292028943, 30.300689276302805, 35.75726306916448, 35.697082251207874, 38.31626865783761, 39.999099800027004, 39.26193346419172, 41.314369438587725, 41.66077082486591, 43.32581776354966, 44.91964662534796, 46.855515712037516, 44.44545415413165, 45.09543553052498, 43.80007160422818, 42.4303932772727, 41.59326122235061, 43.64390795926065, 43.61177808669277, 41.21602506909234, 42.89792135933493, 35.69116704656993, 35.004218986273685, 36.67416497769067, 33.58650429968692, 31.30924030095734, 30.898808018951854, 31.75308818662397, 29.729632332405373, 30.49899719955266, 28.04955431334038, 29.508720793568713, 33.38416145043114, 33.82227989680368, 34.60724365004705, 39.77557217983852, 38.91489608394447, 39.75981041892598, 41.40812793463776, 41.959378449923435, 42.791165023273834, 39.925880635380146, 40.353886317488744, 41.8657921417932, 40.99047759108792, 41.3716814159292, 39.833215782267764, 40.812646592280274, 40.10137454534832, 40.473881016644185, 37.04134932070811, 34.951818928811534, 32.46360215933257, 28.084197198702228, 26.31715546327537, 29.78102189781022, 31.464611072179395, 29.808374733853796, 30.623405030987982, 26.39521160006744, 24.18456642800318, 25.27619047619048, 25.765496639283043, 21.52493169398906, 27.823691460055088, 24.77589871546067, 22.83451154075462, 25.190265902471097, 30.326811438400327, 28.419811320754718, 24.449877750611236, 27.868852459016395, 30.6477093206951, 31.391585760517785, 33.916083916083906, 31.33047210300431, 33.63431151241535, 32.01123781193192, 30.128400170388858, 30.719116460879818, 32.446425060619944, 32.934211401583184, 30.603420035379685, 29.357980520771207, 31.840761211781995, 26.785840457853453, 22.252098101523657, 22.434896902982018, 21.054660396268602, 21.92354553761801, 19.704190632703373, 20.060230885059383, 17.981295217928377, 18.63910737150178, 28.994825152893227, 33.46905537459284, 36.35368523473607, 34.72351301115242, 33.48576654853092, 39.02365977837676, 40.36786508524834, 38.21658844686169, 37.29720474294765, 37.968781674437466, 34.97582316371172, 33.65832040771106, 33.92265193370166, 34.902632142092855, 32.43714214588002, 29.627490615073626, 28.17816269718527, 33.3370529487251, 34.78382147838215, 34.1064040557077, 30.89289052277401, 38.32363879088395, 39.14864601597507, 35.456059566963845, 34.16407061266874, 38.04347826086957, 37.648221343873516, 35.7, 36.06237816764132, 36.38095238095239, 34.73877176901925, 30.92369477911646, 30.88531187122736, 25.765277307127533, 26.483223034947187, 12.280411004308945, 13.5367190354403, 13.52066417297695, 14.784517158818886, 9.568480300187645, 22.568093385214013, 23.04025423728814, 20.586721564590846, 17.76315789473685, 17.417107470003884, 19.14320355651354, 20.728434504792332, 28.272418189545263, 27.68126495370852, 28.393085787451994, 28.572962525501993, 30.707979920373887, 33.051856663418846, 36.69195063964679, 32.110789834119615, 31.130126881085857, 36.34916423454498, 35.10570147341447, 39.096493473253126, 38.44370007729966, 38.95320197044334, 36.16167849429188, 37.49200255918104, 36.67083854818523, 37.34023128423614, 37.05829054666264, 36.851795029150054, 38.84405102837802, 39.45100935499753, 41.56431803490627, 40.224719101123604, 44.79472140762465, 44.338118022328565, 45.467836257309955, 41.362916006339155, 38.742097584697696, 39.73860276956592, 42.585121833145074, 43.17945673148287, 48.27462418667265, 47.45376696729525, 47.596112496774744, 47.93024289099526, 46.503685062016885, 46.645742075673425, 46.68936170212765, 46.91983656922053, 45.905172413793096, 46.66792762120924, 46.62236639057725, 46.52788812966787, 46.096595407759295, 44.2747376311844, 37.90975010487204, 38.50742634526419, 37.093245829915226, 33.85496835984266, 37.780724289384274, 35.90314500417479, 34.980725511515274, 37.16530112340569, 40.61032863849768, 35.18786127167631, 37.700639436252125, 38.865671641791046, 39.54418717420293, 43.16371815915862, 43.908472479901064, 44.73094170403588, 45.149638802889584, 44.80662983425415, 43.310265282583636, 44.46100347739693, 43.68737474949901, 40.975609756097576, 35.67990373044523, 42.36526946107785, 41.74935289042278, 41.76533907427341, 42.90747264973114, 41.89189189189189, 42.93736501079913, 43.0158052114481, 42.794182459233134, 43.246592317224284, 42.25181598062953, 41.38240574506283, 41.662901039313134, 40.46166673980777, 44.84433828589934, 42.3604894061474, 36.082207158585554, 34.52861876446825, 35.53943405031606, 36.069428412637336, 34.963776475474134, 33.40114948374955, 34.51188837739072, 34.83574183355792, 38.75504463739759, 37.99600342563517, 36.45719204883394, 36.92240627724499, 35.4046881910659, 35.451727192205496, 38.25384688903757, 37.424029920523616, 33.255881498693, 35.206569155760846, 33.751306165099265, 31.268151016456926, 31.710775047258977, 28.182045511377837, 20.672939834616486, 21.081709799360283, 20.89337175792508, 23.180903077365542, 27.261643501584985, 28.536703937773453, 31.182169516649893, 27.737226277372258, 29.30168872660886, 26.93285859613428, 28.184350468473028, 29.783248595129777, 22.542113323124042, 27.173913043478265, 31.25, 32.37727523441809, 35.02958579881657, 33.58708891595616, 33.145716072545326, 31.95416931890516, 31.11387678904792, 40.16337644656228, 41.21046228710461, 39.06204485872415, 41.277584204413465, 43.16621593509466, 46.028383816987926, 46.02164226607256, 46.05844019339921, 44.85278315065549, 44.86161767860973, 46.348364279398766, 45.84924623115578, 45.941591137965744, 42.69137188845218, 39.425783449052346, 39.042507680939615, 40.44853824589507, 37.828215398308856, 39.074082293932264, 39.29270520683805, 38.55595332186526, 35.94009194748567, 37.70834279485898, 34.43473169099502, 33.28842785935605, 32.78859684960733, 32.52285109640236, 34.71094238070067, 40.14213370781735, 37.54917996551876, 36.07083279866547, 33.192946548059524, 27.54519505233111, 29.261862917398943, 26.73684210526318, 36.733615221987314, 37.2524123920772, 38.16337148803329, 37.80814576634511, 37.38738738738738, 37.76766595289079, 39.88722726158372, 37.85471972430133, 39.64849798699288, 40.144764692048405, 43.59243948481445, 44.29095146762486, 43.880923261078884, 45.966248467617845, 44.13738200841579, 41.544253038176706, 44.51296476612935, 42.39442551399366, 42.34578760182037, 41.88131169862705, 39.43979822116024, 38.96052804126415, 39.04385926857838, 41.75239446612274, 38.38514680483594, 37.10350584307179, 38.96428571428572, 35.726856740584296, 34.886208618774646, 33.62069275171787, 29.181878492614885, 31.892365505558928, 33.24355417723174, 32.456789520543055, 31.521322743408362, 33.122674230567625, 27.58614364794917, 23.776700987566386, 20.461537893310023, 22.514124397622496, 16.430918762945765, 18.551633257925715, 22.508443123424883, 24.697901208395166, 22.660960902548155, 18.196862857965158, 17.585301837270364, 21.124199109271018, 28.94128525196487, 26.11608339139289, 27.999310503332566, 27.441970071874636, 31.886874643970117, 31.94133564961747, 32.13457466473969, 34.316820582421144, 33.75120746365381, 32.00714969005334, 34.796284105039874, 34.338701223703254, 32.515902065679086, 33.29466793558595, 30.35048978744689, 35.63017004671005, 35.55630038389374, 35.94482907031873, 32.75055182124426, 30.899427457592054, 31.045361662200918, 28.591800229727284, 29.744179864805304, 31.5151515151515, 31.392045454545453, 33.59811485690395, 35.84561476658594, 34.84959018152169, 31.368095491228928, 32.32476046394352, 33.42774866638342, 33.53810082063306, 40.54077665661992, 42.68555448585706, 44.13233744214819, 42.775674285981395, 39.92575914318749, 39.42197921047888, 41.400223753164944, 44.42689245545305, 42.48936248482544, 41.66099387338325, 45.459132189707354, 44.368664747841315, 40.55039654509011, 39.82449739343379, 35.26962127844092, 35.69106789480796, 37.446924219289244, 35.63684378151706, 36.4538969686581, 38.323891197853655, 38.15362554835885, 40.515189270773185, 41.3017213783418, 41.38181520549204, 36.93227827421121, 38.20417794078045, 37.914643691179954, 37.19387920157874, 35.60434796073211, 30.338802004875234, 32.29760055239083, 34.25933192079313, 36.155527435867945, 36.98215251487291, 35.41419159736475, 33.68764343519749, 32.22399896476503, 34.439023206136525, 36.00072816086287, 34.94939457804773, 39.224034058960555, 41.7033154375603, 43.031286183649826, 46.092584314935245, 43.53486613114455, 44.085897684763246, 40.466589568714944, 38.91050145744156, 40.827672715289495, 39.310477589273916, 40.80906843515459, 39.82222185794139, 38.74329298035561, 39.329623398472876, 35.93235785529845, 30.503122587888555, 31.331048847678588, 30.5190130244126, 35.167927950465966, 34.65545131025557, 38.51020995110724, 38.649155722326405, 36.390378958297234, 40.006874033339024, 42.08163510851088, 37.012314507533056, 35.24072754493173, 36.38711304959735, 40.39497504580894, 37.3387854147101, 36.70926380631055, 39.950670757384344, 39.574361854833654, 35.970146687073296, 38.0578080961629, 39.14165188579633, 38.26587949332074, 32.65636755549197, 33.5087403610254, 36.041525614985346, 37.98845470692716, 37.92949576082107, 33.53535353535352, 37.07250341997265, 37.218214607754724, 33.2694610778443, 34.65172489562734, 36.87087223867001, 35.94930538630271, 31.259931895573203, 32.7445352174873, 37.99169313462008, 36.11189601582368, 33.07776560788609, 34.21859039836566, 29.89158492514197, 27.234242709313264, 23.752711496746173, 24.725848563968697, 25.995059017293443, 20.217183008623437, 28.685714285714297, 30.405547383904192, 36.21141819648981, 35.121646912039935, 36.58353647102944, 37.082505867485104, 38.292319164802386, 37.60852407261247, 33.275139664804485, 34.79372033588902, 35.63297688858228, 33.66782006920414, 35.96654275092938, 35.580753907447146, 32.476722532588454, 31.57070113591851, 27.902869757174386, 27.816901408450704, 24.285714285714263, 21.956406166932467, 24.186991869918685, 22.078593588417775, 29.870129870129873, 31.461483081353492, 29.676400947119177, 32.96795952782463, 26.56612529002321, 35.77310155535224, 38.932384341637004, 38.50702143385071, 33.547971667739844, 35.11979823455232, 33.66214549938347, 35.33697632058286, 36.16045845272207, 37.76999416228837, 38.07626636311895, 38.85017421602788, 40.29322548028312, 40.24390243902439, 38.29999999999999, 31.689401888772295, 30.52455357142857, 34.37779767233663, 40.35242290748899, 41.28184713375797, 40.858944050433415, 40.71257005604483, 39.80219780219781, 38.36532240672848, 36.73163418290853, 35.901193217500506, 34.44213444213443, 32.39374587095354, 32.110892818161986, 35.69521960689153, 36.488654595461824, 32.08828522920203, 26.636999364272114, 20.373250388802504, 21.49302707136998, 17.44680851063832, 21.926605504587172, 26.220716906576342, 28.718950600055805, 32.667925546263845, 32.18741336290546, 33.927527761542976, 32.63986505482147, 33.493718257150476, 33.0123796423659, 30.2571860816944, 30.410542321338056, 31.607495069033533, 32.280019445794835, 36.17542903840915, 31.960556844547554, 29.37293729372938, 30.03194888178915, 31.026108075288406, 30.07931665649788, 29.797521909942574, 32.93253173012691, 34.29625076828518, 35.93835993395706, 41.13329418672929, 40.80978735799592, 39.4084254556319, 40.41632873749662, 41.25371655104063, 40.65934065934066, 41.37695978186776, 40.45025417574436, 40.42708080562968, 41.255070388928644, 39.89386248269498, 39.126499207965615, 34.61980243510223, 29.56972841013119, 31.561553291104403, 31.868743047830918, 32.614861032331234, 32.9722222222222, 34.19288292934502, 39.158576051779924, 39.422643211547125, 40.24914089347079, 39.88864142538976, 35.687732342007436, 37.653655380634035, 38.87931034482757, 42.12000933924818, 40.25944978751957, 37.84988853108744, 39.3510172547, 40.22227476944906, 38.607764390896925, 36.244401791426775, 31.729572791372874, 27.51611303916708, 28.936367858801646, 27.358961557663463, 32.48369887374035, 30.63583815028899, 24.570536179073386, 33.085633404104755, 36.62913441238566, 39.63647959183674, 34.93535694210229, 31.538461538461533, 32.554161915621435, 30.493991989319085, 30.31590124767719, 27.99019607843134, 26.243386243386198, 24.65412285556168, 24.068071312803866, 26.02240166710078, 29.05516111414525, 22.3104693140794, 19.26260346124903, 13.113367174280853, 21.885813148788927, 33.01088270858526, 30.364614465032886, 33.73934226552983, 33.66757824369492, 37.331536388140165, 36.76572218382863, 37.335183900069396, 37.4521406195614, 38.53006681514474, 37.0394311570782, 34.72777606890186, 37.566137566137556, 38.95004233700253, 40.086097746264876, 34.921190893169864, 37.578674564975934, 32.835289932408415, 33.42991669684899, 36.545944328045486, 35.985853227232525, 35.25809273840768, 36.06801909307876, 34.464404524284774, 36.742306496736106, 40.46658986175116, 38.09064609450337, 40.59883278355748, 41.577631279836325, 42.9662635264163, 41.3558623531836, 44.038503609713416, 40.15559545182525, 38.765822784810126, 40.36544850498339, 41.15368935996737, 42.739273927392745, 41.935483870967744, 38.69891576313595, 37.79828905898244, 40.31978424195724, 40.25974025974027, 36.34311512415352, 34.987593052109204, 38.25572420890147, 41.73456454825278, 46.23621543870867, 46.39863396460729, 44.13175567636716, 41.7963885429639, 42.38659347009536, 39.58445763626553, 41.849986747945934, 42.43914433243177, 39.65022187418428, 37.03493325759729, 37.574893009985736, 37.43208464398056, 38.29560585885486, 33.496571988246814, 28.627297614391864, 27.625201938610658, 28.57142857142857, 31.558773424190804, 27.80395852968897, 33.74142997061705, 30.905195500803416, 29.915492957746466, 33.53846153846156, 27.525252525252498, 22.129783693843564, 19.047619047619023, 15.406162464985954, 25.085803432137254, 29.13797851831451, 30.630165289256198, 29.82147347246668, 27.651236835660058, 30.733641771315263, 28.704318936877073, 29.122103386809272, 29.149977748108583, 29.840791738382094, 34.38964516848918, 38.26946847960445, 42.54054054054054, 42.409240924092416, 40.50894085281981, 39.29402637703646, 38.174807197943444, 41.81213632585203, 41.145194274028626, 39.76359338061466, 43.61754558896007, 40.25794564716719, 32.8640563132424, 27.97441364605544, 30.74916138650765, 32.05974296630775, 33.07112422156669, 34.44745558566696, 32.68307322929172, 31.308703819661872, 31.32040050062578, 30.865384615384613, 34.74714518760197, 33.5071254779284, 32.927702219040796, 36.868351063829785, 42.68867924528302, 46.896551724137915, 43.190337359433556, 42.61183913239944, 43.462614954018385, 43.75238823079861, 46.33712660028449, 46.88736955739474, 46.980802792321114, 46.96171408500175, 42.09270620313565, 42.9422835633626, 42.04545454545455, 41.77777777777778, 43.18062137967351, 40.94217281990208, 41.901408450704224, 42.43803743045017, 41.83506280720918, 39.29996929689898, 33.512544802867396], \"yaxis\": \"y\"}, {\"hoverlabel\": {\"namelength\": 0}, \"hovertemplate\": \"symbol=O<br>index=%{x}<br>RSI=%{y}\", \"legendgroup\": \"symbol=O\", \"line\": {\"color\": \"#EF553B\", \"dash\": \"solid\"}, \"mode\": \"lines\", \"name\": \"symbol=O\", \"showlegend\": true, \"type\": \"scattergl\", \"x\": [\"2012-09-13\", \"2012-09-14\", \"2012-09-17\", \"2012-09-18\", \"2012-09-19\", \"2012-09-20\", \"2012-09-21\", \"2012-09-24\", \"2012-09-25\", \"2012-09-26\", \"2012-09-27\", \"2012-09-28\", \"2012-10-01\", \"2012-10-02\", \"2012-10-03\", \"2012-10-04\", \"2012-10-05\", \"2012-10-08\", \"2012-10-09\", \"2012-10-10\", \"2012-10-11\", \"2012-10-12\", \"2012-10-15\", \"2012-10-16\", \"2012-10-17\", \"2012-10-18\", \"2012-10-19\", \"2012-10-22\", \"2012-10-23\", \"2012-10-24\", \"2012-10-25\", \"2012-10-26\", \"2012-10-31\", \"2012-11-01\", \"2012-11-02\", \"2012-11-05\", \"2012-11-06\", \"2012-11-07\", \"2012-11-08\", \"2012-11-09\", \"2012-11-12\", \"2012-11-13\", \"2012-11-14\", \"2012-11-15\", \"2012-11-16\", \"2012-11-19\", \"2012-11-20\", \"2012-11-21\", \"2012-11-23\", \"2012-11-26\", \"2012-11-27\", \"2012-11-28\", \"2012-11-29\", \"2012-11-30\", \"2012-12-03\", \"2012-12-04\", \"2012-12-05\", \"2012-12-06\", \"2012-12-07\", \"2012-12-10\", \"2012-12-11\", \"2012-12-12\", \"2012-12-13\", \"2012-12-14\", \"2012-12-17\", \"2012-12-18\", \"2012-12-19\", \"2012-12-20\", \"2012-12-21\", \"2012-12-24\", \"2012-12-26\", \"2012-12-27\", \"2012-12-28\", \"2012-12-31\", \"2013-01-02\", \"2013-01-03\", \"2013-01-04\", \"2013-01-07\", \"2013-01-08\", \"2013-01-09\", \"2013-01-10\", \"2013-01-11\", \"2013-01-14\", \"2013-01-15\", \"2013-01-16\", \"2013-01-17\", \"2013-01-18\", \"2013-01-22\", \"2013-01-23\", \"2013-01-24\", \"2013-01-25\", \"2013-01-28\", \"2013-01-29\", \"2013-01-30\", \"2013-01-31\", \"2013-02-01\", \"2013-02-04\", \"2013-02-05\", \"2013-02-06\", \"2013-02-07\", \"2013-02-08\", \"2013-02-11\", \"2013-02-12\", \"2013-02-13\", \"2013-02-14\", \"2013-02-15\", \"2013-02-19\", \"2013-02-20\", \"2013-02-21\", \"2013-02-22\", \"2013-02-25\", \"2013-02-26\", \"2013-02-27\", \"2013-02-28\", \"2013-03-01\", \"2013-03-04\", \"2013-03-05\", \"2013-03-06\", \"2013-03-07\", \"2013-03-08\", \"2013-03-11\", \"2013-03-12\", \"2013-03-13\", \"2013-03-14\", \"2013-03-15\", \"2013-03-18\", \"2013-03-19\", \"2013-03-20\", \"2013-03-21\", \"2013-03-22\", \"2013-03-25\", \"2013-03-26\", \"2013-03-27\", \"2013-03-28\", \"2013-04-01\", \"2013-04-02\", \"2013-04-03\", \"2013-04-04\", \"2013-04-05\", \"2013-04-08\", \"2013-04-09\", \"2013-04-10\", \"2013-04-11\", \"2013-04-12\", \"2013-04-15\", \"2013-04-16\", \"2013-04-17\", \"2013-04-18\", \"2013-04-19\", \"2013-04-22\", \"2013-04-23\", \"2013-04-24\", \"2013-04-25\", \"2013-04-26\", \"2013-04-29\", \"2013-04-30\", \"2013-05-01\", \"2013-05-02\", \"2013-05-03\", \"2013-05-06\", \"2013-05-07\", \"2013-05-08\", \"2013-05-09\", \"2013-05-10\", \"2013-05-13\", \"2013-05-14\", \"2013-05-15\", \"2013-05-16\", \"2013-05-17\", \"2013-05-20\", \"2013-05-21\", \"2013-05-22\", \"2013-05-23\", \"2013-05-24\", \"2013-05-28\", \"2013-05-29\", \"2013-05-30\", \"2013-05-31\", \"2013-06-03\", \"2013-06-04\", \"2013-06-05\", \"2013-06-06\", \"2013-06-07\", \"2013-06-10\", \"2013-06-11\", \"2013-06-12\", \"2013-06-13\", \"2013-06-14\", \"2013-06-17\", \"2013-06-18\", \"2013-06-19\", \"2013-06-20\", \"2013-06-21\", \"2013-06-24\", \"2013-06-25\", \"2013-06-26\", \"2013-06-27\", \"2013-06-28\", \"2013-07-01\", \"2013-07-02\", \"2013-07-03\", \"2013-07-05\", \"2013-07-08\", \"2013-07-09\", \"2013-07-10\", \"2013-07-11\", \"2013-07-12\", \"2013-07-15\", \"2013-07-16\", \"2013-07-17\", \"2013-07-18\", \"2013-07-19\", \"2013-07-22\", \"2013-07-23\", \"2013-07-24\", \"2013-07-25\", \"2013-07-26\", \"2013-07-29\", \"2013-07-30\", \"2013-07-31\", \"2013-08-01\", \"2013-08-02\", \"2013-08-05\", \"2013-08-06\", \"2013-08-07\", \"2013-08-08\", \"2013-08-09\", \"2013-08-12\", \"2013-08-13\", \"2013-08-14\", \"2013-08-15\", \"2013-08-16\", \"2013-08-19\", \"2013-08-20\", \"2013-08-21\", \"2013-08-22\", \"2013-08-23\", \"2013-08-26\", \"2013-08-27\", \"2013-08-28\", \"2013-08-29\", \"2013-08-30\", \"2013-09-03\", \"2013-09-04\", \"2013-09-05\", \"2013-09-06\", \"2013-09-09\", \"2013-09-10\", \"2013-09-11\", \"2013-09-12\", \"2013-09-13\", \"2013-09-16\", \"2013-09-17\", \"2013-09-18\", \"2013-09-19\", \"2013-09-20\", \"2013-09-23\", \"2013-09-24\", \"2013-09-25\", \"2013-09-26\", \"2013-09-27\", \"2013-09-30\", \"2013-10-01\", \"2013-10-02\", \"2013-10-03\", \"2013-10-04\", \"2013-10-07\", \"2013-10-08\", \"2013-10-09\", \"2013-10-10\", \"2013-10-11\", \"2013-10-14\", \"2013-10-15\", \"2013-10-16\", \"2013-10-17\", \"2013-10-18\", \"2013-10-21\", \"2013-10-22\", \"2013-10-23\", \"2013-10-24\", \"2013-10-25\", \"2013-10-28\", \"2013-10-29\", \"2013-10-30\", \"2013-10-31\", \"2013-11-01\", \"2013-11-04\", \"2013-11-05\", \"2013-11-06\", \"2013-11-07\", \"2013-11-08\", \"2013-11-11\", \"2013-11-12\", \"2013-11-13\", \"2013-11-14\", \"2013-11-15\", \"2013-11-18\", \"2013-11-19\", \"2013-11-20\", \"2013-11-21\", \"2013-11-22\", \"2013-11-25\", \"2013-11-26\", \"2013-11-27\", \"2013-11-29\", \"2013-12-02\", \"2013-12-03\", \"2013-12-04\", \"2013-12-05\", \"2013-12-06\", \"2013-12-09\", \"2013-12-10\", \"2013-12-11\", \"2013-12-12\", \"2013-12-13\", \"2013-12-16\", \"2013-12-17\", \"2013-12-18\", \"2013-12-19\", \"2013-12-20\", \"2013-12-23\", \"2013-12-24\", \"2013-12-26\", \"2013-12-27\", \"2013-12-30\", \"2013-12-31\", \"2014-01-02\", \"2014-01-03\", \"2014-01-06\", \"2014-01-07\", \"2014-01-08\", \"2014-01-09\", \"2014-01-10\", \"2014-01-13\", \"2014-01-14\", \"2014-01-15\", \"2014-01-16\", \"2014-01-17\", \"2014-01-21\", \"2014-01-22\", \"2014-01-23\", \"2014-01-24\", \"2014-01-27\", \"2014-01-28\", \"2014-01-29\", \"2014-01-30\", \"2014-01-31\", \"2014-02-03\", \"2014-02-04\", \"2014-02-05\", \"2014-02-06\", \"2014-02-07\", \"2014-02-10\", \"2014-02-11\", \"2014-02-12\", \"2014-02-13\", \"2014-02-14\", \"2014-02-18\", \"2014-02-19\", \"2014-02-20\", \"2014-02-21\", \"2014-02-24\", \"2014-02-25\", \"2014-02-26\", \"2014-02-27\", \"2014-02-28\", \"2014-03-03\", \"2014-03-04\", \"2014-03-05\", \"2014-03-06\", \"2014-03-07\", \"2014-03-10\", \"2014-03-11\", \"2014-03-12\", \"2014-03-13\", \"2014-03-14\", \"2014-03-17\", \"2014-03-18\", \"2014-03-19\", \"2014-03-20\", \"2014-03-21\", \"2014-03-24\", \"2014-03-25\", \"2014-03-26\", \"2014-03-27\", \"2014-03-28\", \"2014-03-31\", \"2014-04-01\", \"2014-04-02\", \"2014-04-03\", \"2014-04-04\", \"2014-04-07\", \"2014-04-08\", \"2014-04-09\", \"2014-04-10\", \"2014-04-11\", \"2014-04-14\", \"2014-04-15\", \"2014-04-16\", \"2014-04-17\", \"2014-04-21\", \"2014-04-22\", \"2014-04-23\", \"2014-04-24\", \"2014-04-25\", \"2014-04-28\", \"2014-04-29\", \"2014-04-30\", \"2014-05-01\", \"2014-05-02\", \"2014-05-05\", \"2014-05-06\", \"2014-05-07\", \"2014-05-08\", \"2014-05-09\", \"2014-05-12\", \"2014-05-13\", \"2014-05-14\", \"2014-05-15\", \"2014-05-16\", \"2014-05-19\", \"2014-05-20\", \"2014-05-21\", \"2014-05-22\", \"2014-05-23\", \"2014-05-27\", \"2014-05-28\", \"2014-05-29\", \"2014-05-30\", \"2014-06-02\", \"2014-06-03\", \"2014-06-04\", \"2014-06-05\", \"2014-06-06\", \"2014-06-09\", \"2014-06-10\", \"2014-06-11\", \"2014-06-12\", \"2014-06-13\", \"2014-06-16\", \"2014-06-17\", \"2014-06-18\", \"2014-06-19\", \"2014-06-20\", \"2014-06-23\", \"2014-06-24\", \"2014-06-25\", \"2014-06-26\", \"2014-06-27\", \"2014-06-30\", \"2014-07-01\", \"2014-07-02\", \"2014-07-03\", \"2014-07-07\", \"2014-07-08\", \"2014-07-09\", \"2014-07-10\", \"2014-07-11\", \"2014-07-14\", \"2014-07-15\", \"2014-07-16\", \"2014-07-17\", \"2014-07-18\", \"2014-07-21\", \"2014-07-22\", \"2014-07-23\", \"2014-07-24\", \"2014-07-25\", \"2014-07-28\", \"2014-07-29\", \"2014-07-30\", \"2014-07-31\", \"2014-08-01\", \"2014-08-04\", \"2014-08-05\", \"2014-08-06\", \"2014-08-07\", \"2014-08-08\", \"2014-08-11\", \"2014-08-12\", \"2014-08-13\", \"2014-08-14\", \"2014-08-15\", \"2014-08-18\", \"2014-08-19\", \"2014-08-20\", \"2014-08-21\", \"2014-08-22\", \"2014-08-25\", \"2014-08-26\", \"2014-08-27\", \"2014-08-28\", \"2014-08-29\", \"2014-09-02\", \"2014-09-03\", \"2014-09-04\", \"2014-09-05\", \"2014-09-08\", \"2014-09-09\", \"2014-09-10\", \"2014-09-11\", \"2014-09-12\", \"2014-09-15\", \"2014-09-16\", \"2014-09-17\", \"2014-09-18\", \"2014-09-19\", \"2014-09-22\", \"2014-09-23\", \"2014-09-24\", \"2014-09-25\", \"2014-09-26\", \"2014-09-29\", \"2014-09-30\", \"2014-10-01\", \"2014-10-02\", \"2014-10-03\", \"2014-10-06\", \"2014-10-07\", \"2014-10-08\", \"2014-10-09\", \"2014-10-10\", \"2014-10-13\", \"2014-10-14\", \"2014-10-15\", \"2014-10-16\", \"2014-10-17\", \"2014-10-20\", \"2014-10-21\", \"2014-10-22\", \"2014-10-23\", \"2014-10-24\", \"2014-10-27\", \"2014-10-28\", \"2014-10-29\", \"2014-10-30\", \"2014-10-31\", \"2014-11-03\", \"2014-11-04\", \"2014-11-05\", \"2014-11-06\", \"2014-11-07\", \"2014-11-10\", \"2014-11-11\", \"2014-11-12\", \"2014-11-13\", \"2014-11-14\", \"2014-11-17\", \"2014-11-18\", \"2014-11-19\", \"2014-11-20\", \"2014-11-21\", \"2014-11-24\", \"2014-11-25\", \"2014-11-26\", \"2014-11-28\", \"2014-12-01\", \"2014-12-02\", \"2014-12-03\", \"2014-12-04\", \"2014-12-05\", \"2014-12-08\", \"2014-12-09\", \"2014-12-10\", \"2014-12-11\", \"2014-12-12\", \"2014-12-15\", \"2014-12-16\", \"2014-12-17\", \"2014-12-18\", \"2014-12-19\", \"2014-12-22\", \"2014-12-23\", \"2014-12-24\", \"2014-12-26\", \"2014-12-29\", \"2014-12-30\", \"2014-12-31\", \"2015-01-02\", \"2015-01-05\", \"2015-01-06\", \"2015-01-07\", \"2015-01-08\", \"2015-01-09\", \"2015-01-12\", \"2015-01-13\", \"2015-01-14\", \"2015-01-15\", \"2015-01-16\", \"2015-01-20\", \"2015-01-21\", \"2015-01-22\", \"2015-01-23\", \"2015-01-26\", \"2015-01-27\", \"2015-01-28\", \"2015-01-29\", \"2015-01-30\", \"2015-02-02\", \"2015-02-03\", \"2015-02-04\", \"2015-02-05\", \"2015-02-06\", \"2015-02-09\", \"2015-02-10\", \"2015-02-11\", \"2015-02-12\", \"2015-02-13\", \"2015-02-17\", \"2015-02-18\", \"2015-02-19\", \"2015-02-20\", \"2015-02-23\", \"2015-02-24\", \"2015-02-25\", \"2015-02-26\", \"2015-02-27\", \"2015-03-02\", \"2015-03-03\", \"2015-03-04\", \"2015-03-05\", \"2015-03-06\", \"2015-03-09\", \"2015-03-10\", \"2015-03-11\", \"2015-03-12\", \"2015-03-13\", \"2015-03-16\", \"2015-03-17\", \"2015-03-18\", \"2015-03-19\", \"2015-03-20\", \"2015-03-23\", \"2015-03-24\", \"2015-03-25\", \"2015-03-26\", \"2015-03-27\", \"2015-03-30\", \"2015-03-31\", \"2015-04-01\", \"2015-04-02\", \"2015-04-06\", \"2015-04-07\", \"2015-04-08\", \"2015-04-09\", \"2015-04-10\", \"2015-04-13\", \"2015-04-14\", \"2015-04-15\", \"2015-04-16\", \"2015-04-17\", \"2015-04-20\", \"2015-04-21\", \"2015-04-22\", \"2015-04-23\", \"2015-04-24\", \"2015-04-27\", \"2015-04-28\", \"2015-04-29\", \"2015-04-30\", \"2015-05-01\", \"2015-05-04\", \"2015-05-05\", \"2015-05-06\", \"2015-05-07\", \"2015-05-08\", \"2015-05-11\", \"2015-05-12\", \"2015-05-13\", \"2015-05-14\", \"2015-05-15\", \"2015-05-18\", \"2015-05-19\", \"2015-05-20\", \"2015-05-21\", \"2015-05-22\", \"2015-05-26\", \"2015-05-27\", \"2015-05-28\", \"2015-05-29\", \"2015-06-01\", \"2015-06-02\", \"2015-06-03\", \"2015-06-04\", \"2015-06-05\", \"2015-06-08\", \"2015-06-09\", \"2015-06-10\", \"2015-06-11\", \"2015-06-12\", \"2015-06-15\", \"2015-06-16\", \"2015-06-17\", \"2015-06-18\", \"2015-06-19\", \"2015-06-22\", \"2015-06-23\", \"2015-06-24\", \"2015-06-25\", \"2015-06-26\", \"2015-06-29\", \"2015-06-30\", \"2015-07-01\", \"2015-07-02\", \"2015-07-06\", \"2015-07-07\", \"2015-07-08\", \"2015-07-09\", \"2015-07-10\", \"2015-07-13\", \"2015-07-14\", \"2015-07-15\", \"2015-07-16\", \"2015-07-17\", \"2015-07-20\", \"2015-07-21\", \"2015-07-22\", \"2015-07-23\", \"2015-07-24\", \"2015-07-27\", \"2015-07-28\", \"2015-07-29\", \"2015-07-30\", \"2015-07-31\", \"2015-08-03\", \"2015-08-04\", \"2015-08-05\", \"2015-08-06\", \"2015-08-07\", \"2015-08-10\", \"2015-08-11\", \"2015-08-12\", \"2015-08-13\", \"2015-08-14\", \"2015-08-17\", \"2015-08-18\", \"2015-08-19\", \"2015-08-20\", \"2015-08-21\", \"2015-08-24\", \"2015-08-25\", \"2015-08-26\", \"2015-08-27\", \"2015-08-28\", \"2015-08-31\", \"2015-09-01\", \"2015-09-02\", \"2015-09-03\", \"2015-09-04\", \"2015-09-08\", \"2015-09-09\", \"2015-09-10\", \"2015-09-11\", \"2015-09-14\", \"2015-09-15\", \"2015-09-16\", \"2015-09-17\", \"2015-09-18\", \"2015-09-21\", \"2015-09-22\", \"2015-09-23\", \"2015-09-24\", \"2015-09-25\", \"2015-09-28\", \"2015-09-29\", \"2015-09-30\", \"2015-10-01\", \"2015-10-02\", \"2015-10-05\", \"2015-10-06\", \"2015-10-07\", \"2015-10-08\", \"2015-10-09\", \"2015-10-12\", \"2015-10-13\", \"2015-10-14\", \"2015-10-15\", \"2015-10-16\", \"2015-10-19\", \"2015-10-20\", \"2015-10-21\", \"2015-10-22\", \"2015-10-23\", \"2015-10-26\", \"2015-10-27\", \"2015-10-28\", \"2015-10-29\", \"2015-10-30\", \"2015-11-02\", \"2015-11-03\", \"2015-11-04\", \"2015-11-05\", \"2015-11-06\", \"2015-11-09\", \"2015-11-10\", \"2015-11-11\", \"2015-11-12\", \"2015-11-13\"], \"xaxis\": \"x\", \"y\": [null, null, null, null, null, null, null, null, null, null, null, null, null, null, 27.209302325581433, 26.24113475177306, 26.117647058823593, 27.407407407407447, 28.172588832487335, 32.83582089552243, 32.35294117647061, 29.558011049723802, 38.422391857506284, 39.52879581151831, 37.00787401574804, 37.142857142857125, 34.79318734793188, 31.88405797101443, 25.92592592592591, 27.988338192419818, 24.36548223350249, 21.967963386727632, 21.192052980132402, 22.174840085287784, 22.12765957446804, 21.487603305785072, 15.671641791044735, 14.350797266514746, 14.221218961625226, 10.352941176470551, 10.37735849056601, 9.954751131221698, 9.799554565701513, 8.314087759815237, 22.6618705035971, 25.447316103379748, 33.48837209302323, 32.39669421487602, 32.61231281198002, 34.571890145395784, 34.087237479806134, 36.0683760683761, 37.67605633802818, 42.64705882352943, 42.387332521315464, 43.467643467643455, 44.66750313676289, 45.20856820744083, 43.86459802538791, 43.338008415147314, 41.18738404452696, 39.22651933701662, 39.154411764705934, 38.74045801526723, 40.72847682119208, 42.14743589743594, 39.81623277182237, 34.851936218678844, 37.046004842615034, 36.85503685503687, 36.764705882352985, 32.165605095541395, 28.61189801699716, 30.083565459610014, 36.6852886405959, 37.38140417457306, 39.285714285714285, 40.39634146341465, 39.60396039603962, 39.99999999999999, 43.60056258790438, 43.279172821270315, 44.88950276243096, 44.95912806539513, 46.14343707713125, 46.81872749099643, 49.264705882352956, 49.25187032418955, 46.42313546423136, 47.295208655332296, 45.257903494176325, 45.608628659476075, 41.492537313432805, 40.619902120717775, 38.963531669865645, 36.483931947069934, 34.754797441364616, 34.35448577680526, 33.56321839080461, 29.15451895043735, 25.28735632183917, 30.18433179723506, 38.04537521815009, 38.20998278829601, 37.94871794871797, 35.523613963039026, 41.213389121338935, 40.5349794238683, 37.52535496957402, 40.48096192384769, 39.52569169960472, 41.25412541254124, 42.450142450142444, 42.933333333333316, 44.84605087014724, 44.68965517241377, 44.12213740458013, 40.455840455840445, 41.76470588235293, 40.63926940639267, 35.06493506493507, 33.609958506224075, 33.98601398601399, 34.63087248322147, 35.05434782608697, 31.003039513677805, 25.95673876871875, 23.869801084990954, 23.091247672253274, 23.191094619666046, 15.869565217391369, 26.593806921675778, 27.289048473967696, 30.357142857142875, 36.28472222222221, 39.61605584642232, 40.1769911504425, 40.03590664272892, 40.68376068376067, 43.72019077901432, 46.677740863787385, 46.987951807228924, 47.601918465227826, 47.41602067183463, 43.952095808383234, 44.344904815229576, 42.998897464167605, 43.179377013963496, 44.048734770384264, 43.99243140964996, 44.92753623188406, 43.98496240601505, 44.07407407407409, 43.83429672447016, 44.4922547332186, 44.745484400656835, 42.36499068901305, 42.95532646048113, 46.792763157894754, 45.60546875, 47.014925373134325, 47.00374531835205, 44.92911668484187, 44.80446927374302, 45.575642245480495, 46.28736740597878, 46.72897196261681, 45.71917808219176, 45.99358974358972, 44.099913867355696, 45.74557708508842, 36.58536585365851, 30.581478822684858, 28.842247799593792, 26.089872568745818, 22.381262199089164, 21.68978562421188, 20.094007050528816, 14.869176770899855, 13.768545994065306, 10.890454836643187, 18.03628601921025, 13.403263403263395, 13.333333333333329, 11.496244945118406, 13.015042511445372, 19.317450096587237, 23.598274799753526, 23.922548407245472, 27.40788623141563, 26.633165829145725, 24.723032069970827, 25.68140520896425, 27.622149837133534, 28.13494589433482, 24.460966542750924, 27.160493827160494, 27.359180687637163, 28.637059724349157, 33.63994743758211, 31.500742942050508, 27.279999999999987, 28.776371308016877, 29.668552950687157, 32.564330079858024, 43.53448275862067, 44.51882845188284, 44.96431403647898, 44.55869751499571, 44.335414808206956, 44.284428442844266, 43.34801762114535, 44.267515923566854, 41.800000000000004, 36.48648648648648, 38.75598086124402, 38.57142857142856, 37.421383647798734, 36.80412371134022, 28.33117723156532, 24.678663239074552, 24.67866323907458, 22.919179734620045, 20.599739243807065, 19.650067294751054, 22.425952045133997, 21.20765832106042, 20.310296191819475, 21.621621621621657, 21.052631578947413, 19.380888290713344, 15.356265356265354, 14.434180138568124, 22.291021671826655, 23.45276872964172, 22.37288135593218, 26.2582056892779, 25.0, 23.01845819761128, 21.17021276595746, 19.20454545454548, 19.719953325554286, 20.43530834340993, 23.82022471910112, 23.954802259887032, 29.58236658932715, 35.69165786694826, 30.493827160493808, 31.102850061957838, 29.032258064516142, 26.51933701657461, 32.10784313725489, 32.029339853300726, 37.386018237082084, 35.569105691056905, 34.72222222222223, 35.93429158110885, 35.48728813559323, 39.342629482071715, 39.651837524177964, 34.38485804416402, 34.169278996865216, 36.58104517271923, 37.34177215189874, 35.059422750424446, 32.69780743565302, 33.20425943852855, 27.441860465116264, 29.062870699881387, 34.808853118712264, 36.65689149560116, 36.28140703517588, 34.61104847801579, 35.21126760563379, 40.08350730688936, 40.80765143464398, 35.76642335766424, 34.916864608076025, 39.65517241379309, 40.34285714285713, 42.84482758620688, 44.50307827616535, 44.02125775022143, 41.164241164241155, 36.663336663336665, 37.07647628267184, 36.56644034917555, 32.752992383025045, 32.17097862767153, 31.53252480705622, 29.273285568065504, 30.200633579725448, 27.293844367015097, 27.90960451977402, 21.70767004341539, 22.95988934993086, 21.2820512820513, 21.119592875318105, 21.47477360931437, 19.16083916083913, 19.080779944289674, 18.8186813186813, 13.67647058823529, 19.22005571030637, 22.66009852216746, 21.766561514195544, 21.428571428571416, 17.429837518463756, 11.79401993355475, 13.607594936708793, 18.04878048780482, 20.666666666666643, 21.86948853615519, 23.895253682487706, 31.157635467980285, 33.02872062663185, 37.58465011286681, 38.29787234042553, 33.118675252989874, 32.667876588021784, 34.05017921146954, 37.148047229791125, 37.800369685767116, 35.860058309037896, 33.89162561576356, 32.90258449304174, 34.72367049009384, 35.18705763397371, 32.02453987730061, 32.97997644287396, 27.285129604365622, 22.660098522167516, 36.24161073825505, 37.04974271012005, 37.881219903691786, 37.005163511187604, 35.71428571428571, 36.440677966101674, 41.5300546448087, 42.98820445609434, 42.951251646903785, 42.16691068814054, 42.0029895366218, 43.370508054522894, 45.81151832460729, 45.949367088607566, 44.968553459119455, 39.99999999999998, 39.4074074074074, 39.9153737658674, 41.335227272727245, 42.87616511318243, 41.88163884673749, 41.32901134521881, 41.78187403993855, 42.45416078984485, 42.6812585499316, 42.32424677187949, 42.71978021978022, 42.89544235924931, 43.72037914691941, 50.0, 50.0, 50.0, 49.53379953379954, 49.49748743718594, 46.987951807228896, 47.17691342534503, 43.200962695547524, 38.23870220162225, 32.86788399570355, 29.228855721393032, 30.536130536130514, 30.260047281323907, 28.69897959183676, 25.51319648093842, 22.62295081967214, 21.05263157894737, 17.41496598639455, 16.998671978751645, 20.886075949367125, 17.86179921773146, 23.27044025157234, 24.601063829787236, 29.218749999999957, 29.682539682539684, 27.385159010600702, 23.583180987202866, 23.486238532110065, 22.222222222222186, 24.193548387096797, 30.026455026455025, 38.12233285917499, 38.505747126436816, 34.42622950819671, 36.66666666666665, 34.39716312056737, 41.34228187919463, 41.76245210727971, 37.71626297577855, 37.51465416178195, 40.196078431372534, 39.17410714285713, 41.48380355276907, 41.131664853101185, 40.97452934662236, 39.21334922526816, 39.85680190930787, 41.08241082410823, 40.834386852085956, 41.50058616647127, 37.037037037037024, 39.36708860759492, 43.01521438450897, 41.71195652173911, 41.26074498567333, 39.779005524861866, 37.81249999999999, 34.815950920245385, 34.86238532110093, 34.70319634703198, 34.5146379044684, 34.04255319148936, 31.818181818181827, 30.307692307692292, 32.637853949329354, 26.17586912065434, 29.19132149901378, 30.0813008130081, 29.148936170212806, 30.37694013303772, 29.718004338394806, 38.325281803542666, 34.639175257731935, 30.825688073394474, 30.69852941176471, 33.87978142076501, 38.15551537070522, 38.64818024263432, 35.20140105078809, 36.17021276595746, 37.40685543964232, 38.78954607977993, 39.537869062901144, 38.356164383561655, 38.644918444165604, 34.442595673876895, 33.54943273905997, 39.068100358422946, 39.865996649916255, 40.649149922720255, 38.01916932907349, 35.35031847133756, 38.8036809815951, 38.769230769230774, 37.102473498233216, 37.14788732394365, 34.51143451143453, 39.34426229508192, 40.376569037656914, 39.95859213250515, 41.79104477611938, 42.93577981651375, 40.6844106463878, 36.01694915254239, 38.63134657836643, 36.764705882352956, 34.53237410071941, 33.587786259542, 31.234256926952142, 20.627802690582968, 19.087136929460584, 15.102974828375338, 19.80198019801979, 19.92031872509959, 20.62256809338531, 17.030567685589517, 21.149897330595493, 22.198275862068954, 22.55319148936178, 32.39929947460598, 32.513181019332166, 32.991452991452974, 36.166924265842326, 44.10714285714284, 47.5763016157989, 47.92043399638334, 44.74708171206227, 43.151969981238246, 42.41842610364678, 41.32231404958677, 39.14988814317672, 40.73275862068962, 39.60612691466082, 33.55263157894733, 34.08360128617363, 38.35294117647058, 32.10526315789474, 28.020565552699267, 22.141119221411202, 20.7762557077626, 17.10526315789477, 17.635658914728708, 22.575250836120418, 21.704180064308673, 19.65065502183407, 21.47742818057455, 20.389610389610382, 19.193154034229835, 18.38942307692308, 12.320916905444122, 17.701453104359288, 17.748344370860906, 18.406593406593387, 20.708446866484977, 24.958949096880104, 26.442307692307693, 24.30069930069932, 24.82142857142857, 35.30259365994239, 36.21621621621622, 37.48251748251749, 40.65281899109794, 43.36734693877551, 44.06392694063927, 43.65853658536586, 43.132530120481924, 45.50379198266522, 45.599151643690355, 45.87884806355512, 45.927379784102065, 45.79533941236069, 46.789883268482505, 45.34461910519953, 45.52845528455286, 47.18750000000001, 44.83450351053159, 45.071770334928225, 45.23589269195188, 43.546889507892296, 43.62790697674418, 42.812172088142695, 42.73594909862141, 40.94922737306841, 38.38604143947656, 37.634408602150536, 34.929270946681186, 36.4562118126273, 34.12887828162293, 30.52917232021707, 32.8034682080925, 27.115384615384627, 23.555555555555557, 26.511627906976727, 29.722921914357684, 29.92518703241899, 27.323943661971825, 30.1775147928994, 32.692307692307665, 33.22475570032569, 31.38461538461533, 25.49019607843134, 26.235741444866875, 31.294964028776945, 37.85046728971962, 37.96296296296297, 34.86486486486483, 34.864864864864884, 40.344827586206875, 41.33126934984518, 42.670157068062814, 43.67945823927763, 43.97727272727272, 44.96788008565312, 47.72727272727274, 48.060344827586206, 44.78527607361963, 39.54802259887007, 39.81651376146788, 41.31455399061032, 42.357142857142875, 43.08785529715763, 38.088737201365205, 38.4513567174057, 38.6170906718852, 37.719915552427885, 39.06455862977602, 39.31788931788932, 40.313820156910076, 39.9005593536358, 41.61812297734629, 45.40647719762062, 45.03925767309065, 45.16353514265832, 44.93809176984705, 44.29860541427399, 49.81684981684982, 45.88457899716179, 41.750503018108645, 40.581162324649284, 37.33905579399141, 37.39316239316239, 27.306616961789373, 28.68490732568401, 29.127052722558332, 27.65957446808511, 27.61816496756255, 23.37375964718852, 20.71759259259261, 25.389105058365743, 22.425828970331565, 26.717557251908374, 30.201342281879192, 27.21088435374149, 28.993186979560946, 24.553571428571416, 31.058617672790902, 31.91311612364244, 31.24470787468246, 30.504201680672267, 30.889621087314666, 25.27634487840824, 27.40585774058576, 24.447949526813886, 28.140703517587937, 28.25, 26.27345844504019, 32.4953445065177, 31.589147286821714, 39.480301760268226, 39.44491169049622, 40.724316334072434, 40.45521292217329, 38.55843247025891, 35.53835327234343, 39.98416468725258, 38.49407783417937, 39.440993788819874, 38.90234059725585, 37.28963684676703, 38.73581847649919, 33.228593872741556, 33.56643356643356, 28.528827037773368, 24.44444444444443, 16.66666666666663, 16.273584905660343, 23.809523809523796, 24.471635150166833, 25.99531615925055, 26.241134751773018, 22.058823529411725, 23.964868255959814, 25.33659730722154, 20.949720670391045, 26.362038664323336, 24.955752212389356, 24.479166666666643, 24.43674176776429, 19.93670886075948, 21.535893155258762, 13.64605543710023, 12.307692307692307, 11.676082862523614, 18.96551724137933, 25.9493670886076, 21.829268292682954, 23.076923076923094, 21.854304635761608, 27.158273381294975, 29.6875, 29.183508488278093, 31.834215167548507, 34.531693472090836, 33.272058823529406, 32.67045454545453, 34.396809571286155, 35.070140280561105, 31.63043478260869, 25.907384230287846, 30.700636942675132, 28.374655647382866, 28.61111111111107, 23.539518900343595, 15.631262525050033, 21.616541353383383, 19.99999999999993, 21.10552763819088, 26.160990712074323, 25.261584454409572, 26.447574334898277, 27.769571639586445, 32.80632411067195, 37.5, 33.96449704142013, 32.1748878923767, 32.8, 30.071599045346062, 30.03575685339692, 30.724971231300344, 30.86705202312139, 30.274135876042934, 31.508379888268138, 33.51293103448275, 36.17443012884043, 36.59942363112391, 34.5945945945946, 30.504305043050437, 34.48687350835323, 36.12499999999998, 38.780487804878064, 41.00119189511323, 43.618201997780254, 41.68704156479219, 45.06866416978777, 43.9950980392157, 43.26923076923079, 39.777468706536865, 39.04619970193741, 38.12600969305331, 39.20367534456354, 42.24751066856327, 39.81337480559875, 42.687747035573125, 43.05381727158949, 39.21085080147965, 34.09378960709759, 35.58897243107769, 34.50980392156865, 34.920634920634924, 34.16666666666667, 37.30496453900708, 35.68147013782543, 36.35036496350367, 36.270190895741564, 36.390101892285315, 35.41076487252123, 32.24137931034484, 26.037735849056602, 21.36222910216719, 19.57446808510639, 25.48571428571428, 29.827915869980885, 28.942486085343234, 25.569620253164544, 23.327895595432324, 24.68652037617555, 23.322422258592468, 21.106719367588937, 23.1841526045488, 23.30383480825961, 23.994252873563227, 27.763157894736835, 32.20946915351506, 36.61971830985915, 35.50200803212853, 34.819175777964674, 37.411207576953444, 41.765704584040755, 42.56055363321801, 42.429577464788736, 41.33790737564321, 44.434389140271485, 41.415192507804356, 43.58472086190009, 43.64694471387002, 42.14202561117579, 35.63829787234042, 37.406716417910445, 35.72874493927125, 35.22012578616352, 33.940774487471515, 33.71824480369516, 37.149270482603804, 36.236933797909415, 36.06936416184971, 38.104639684106616, 39.959636730575184, 39.5373291272345, 39.077936333699235, 38.90710382513663, 46.73704414587334, 44.28739693757365, 45.31422271223818, 44.88567990373047, 44.970414201183466, 40.30668127053669, 38.389731621937, 41.11627906976746, 40.925925925925924, 36.52085452695831, 37.65144454799628, 29.63836477987421, 27.05278592375366, 28.92223738062755, 26.303680981595093, 26.90196078431373, 25.56016597510373], \"yaxis\": \"y\"}],\n",
              "                        {\"legend\": {\"tracegroupgap\": 0}, \"margin\": {\"t\": 60}, \"template\": {\"data\": {\"bar\": [{\"error_x\": {\"color\": \"#2a3f5f\"}, \"error_y\": {\"color\": \"#2a3f5f\"}, \"marker\": {\"line\": {\"color\": \"#E5ECF6\", \"width\": 0.5}}, \"type\": \"bar\"}], \"barpolar\": [{\"marker\": {\"line\": {\"color\": \"#E5ECF6\", \"width\": 0.5}}, \"type\": \"barpolar\"}], \"carpet\": [{\"aaxis\": {\"endlinecolor\": \"#2a3f5f\", \"gridcolor\": \"white\", \"linecolor\": \"white\", \"minorgridcolor\": \"white\", \"startlinecolor\": \"#2a3f5f\"}, \"baxis\": {\"endlinecolor\": \"#2a3f5f\", \"gridcolor\": \"white\", \"linecolor\": \"white\", \"minorgridcolor\": \"white\", \"startlinecolor\": \"#2a3f5f\"}, \"type\": \"carpet\"}], \"choropleth\": [{\"colorbar\": {\"outlinewidth\": 0, \"ticks\": \"\"}, \"type\": \"choropleth\"}], \"contour\": [{\"colorbar\": {\"outlinewidth\": 0, \"ticks\": \"\"}, \"colorscale\": [[0.0, \"#0d0887\"], [0.1111111111111111, \"#46039f\"], [0.2222222222222222, \"#7201a8\"], [0.3333333333333333, \"#9c179e\"], [0.4444444444444444, \"#bd3786\"], [0.5555555555555556, \"#d8576b\"], [0.6666666666666666, \"#ed7953\"], [0.7777777777777778, \"#fb9f3a\"], [0.8888888888888888, \"#fdca26\"], [1.0, \"#f0f921\"]], \"type\": \"contour\"}], \"contourcarpet\": [{\"colorbar\": {\"outlinewidth\": 0, \"ticks\": \"\"}, \"type\": \"contourcarpet\"}], \"heatmap\": [{\"colorbar\": {\"outlinewidth\": 0, \"ticks\": \"\"}, \"colorscale\": [[0.0, \"#0d0887\"], [0.1111111111111111, \"#46039f\"], [0.2222222222222222, \"#7201a8\"], [0.3333333333333333, \"#9c179e\"], [0.4444444444444444, \"#bd3786\"], [0.5555555555555556, \"#d8576b\"], [0.6666666666666666, \"#ed7953\"], [0.7777777777777778, \"#fb9f3a\"], [0.8888888888888888, \"#fdca26\"], [1.0, \"#f0f921\"]], \"type\": \"heatmap\"}], \"heatmapgl\": [{\"colorbar\": {\"outlinewidth\": 0, \"ticks\": \"\"}, \"colorscale\": [[0.0, \"#0d0887\"], [0.1111111111111111, \"#46039f\"], [0.2222222222222222, \"#7201a8\"], [0.3333333333333333, \"#9c179e\"], [0.4444444444444444, \"#bd3786\"], [0.5555555555555556, \"#d8576b\"], [0.6666666666666666, \"#ed7953\"], [0.7777777777777778, \"#fb9f3a\"], [0.8888888888888888, \"#fdca26\"], [1.0, \"#f0f921\"]], \"type\": \"heatmapgl\"}], \"histogram\": [{\"marker\": {\"colorbar\": {\"outlinewidth\": 0, \"ticks\": \"\"}}, \"type\": \"histogram\"}], \"histogram2d\": [{\"colorbar\": {\"outlinewidth\": 0, \"ticks\": \"\"}, \"colorscale\": [[0.0, \"#0d0887\"], [0.1111111111111111, \"#46039f\"], [0.2222222222222222, \"#7201a8\"], [0.3333333333333333, \"#9c179e\"], [0.4444444444444444, \"#bd3786\"], [0.5555555555555556, \"#d8576b\"], [0.6666666666666666, \"#ed7953\"], [0.7777777777777778, \"#fb9f3a\"], [0.8888888888888888, \"#fdca26\"], [1.0, \"#f0f921\"]], \"type\": \"histogram2d\"}], \"histogram2dcontour\": [{\"colorbar\": {\"outlinewidth\": 0, \"ticks\": \"\"}, \"colorscale\": [[0.0, \"#0d0887\"], [0.1111111111111111, \"#46039f\"], [0.2222222222222222, \"#7201a8\"], [0.3333333333333333, \"#9c179e\"], [0.4444444444444444, \"#bd3786\"], [0.5555555555555556, \"#d8576b\"], [0.6666666666666666, \"#ed7953\"], [0.7777777777777778, \"#fb9f3a\"], [0.8888888888888888, \"#fdca26\"], [1.0, \"#f0f921\"]], \"type\": \"histogram2dcontour\"}], \"mesh3d\": [{\"colorbar\": {\"outlinewidth\": 0, \"ticks\": \"\"}, \"type\": \"mesh3d\"}], \"parcoords\": [{\"line\": {\"colorbar\": {\"outlinewidth\": 0, \"ticks\": \"\"}}, \"type\": \"parcoords\"}], \"pie\": [{\"automargin\": true, \"type\": \"pie\"}], \"scatter\": [{\"marker\": {\"colorbar\": {\"outlinewidth\": 0, \"ticks\": \"\"}}, \"type\": \"scatter\"}], \"scatter3d\": [{\"line\": {\"colorbar\": {\"outlinewidth\": 0, \"ticks\": \"\"}}, \"marker\": {\"colorbar\": {\"outlinewidth\": 0, \"ticks\": \"\"}}, \"type\": \"scatter3d\"}], \"scattercarpet\": [{\"marker\": {\"colorbar\": {\"outlinewidth\": 0, \"ticks\": \"\"}}, \"type\": \"scattercarpet\"}], \"scattergeo\": [{\"marker\": {\"colorbar\": {\"outlinewidth\": 0, \"ticks\": \"\"}}, \"type\": \"scattergeo\"}], \"scattergl\": [{\"marker\": {\"colorbar\": {\"outlinewidth\": 0, \"ticks\": \"\"}}, \"type\": \"scattergl\"}], \"scattermapbox\": [{\"marker\": {\"colorbar\": {\"outlinewidth\": 0, \"ticks\": \"\"}}, \"type\": \"scattermapbox\"}], \"scatterpolar\": [{\"marker\": {\"colorbar\": {\"outlinewidth\": 0, \"ticks\": \"\"}}, \"type\": \"scatterpolar\"}], \"scatterpolargl\": [{\"marker\": {\"colorbar\": {\"outlinewidth\": 0, \"ticks\": \"\"}}, \"type\": \"scatterpolargl\"}], \"scatterternary\": [{\"marker\": {\"colorbar\": {\"outlinewidth\": 0, \"ticks\": \"\"}}, \"type\": \"scatterternary\"}], \"surface\": [{\"colorbar\": {\"outlinewidth\": 0, \"ticks\": \"\"}, \"colorscale\": [[0.0, \"#0d0887\"], [0.1111111111111111, \"#46039f\"], [0.2222222222222222, \"#7201a8\"], [0.3333333333333333, \"#9c179e\"], [0.4444444444444444, \"#bd3786\"], [0.5555555555555556, \"#d8576b\"], [0.6666666666666666, \"#ed7953\"], [0.7777777777777778, \"#fb9f3a\"], [0.8888888888888888, \"#fdca26\"], [1.0, \"#f0f921\"]], \"type\": \"surface\"}], \"table\": [{\"cells\": {\"fill\": {\"color\": \"#EBF0F8\"}, \"line\": {\"color\": \"white\"}}, \"header\": {\"fill\": {\"color\": \"#C8D4E3\"}, \"line\": {\"color\": \"white\"}}, \"type\": \"table\"}]}, \"layout\": {\"annotationdefaults\": {\"arrowcolor\": \"#2a3f5f\", \"arrowhead\": 0, \"arrowwidth\": 1}, \"coloraxis\": {\"colorbar\": {\"outlinewidth\": 0, \"ticks\": \"\"}}, \"colorscale\": {\"diverging\": [[0, \"#8e0152\"], [0.1, \"#c51b7d\"], [0.2, \"#de77ae\"], [0.3, \"#f1b6da\"], [0.4, \"#fde0ef\"], [0.5, \"#f7f7f7\"], [0.6, \"#e6f5d0\"], [0.7, \"#b8e186\"], [0.8, \"#7fbc41\"], [0.9, \"#4d9221\"], [1, \"#276419\"]], \"sequential\": [[0.0, \"#0d0887\"], [0.1111111111111111, \"#46039f\"], [0.2222222222222222, \"#7201a8\"], [0.3333333333333333, \"#9c179e\"], [0.4444444444444444, \"#bd3786\"], [0.5555555555555556, \"#d8576b\"], [0.6666666666666666, \"#ed7953\"], [0.7777777777777778, \"#fb9f3a\"], [0.8888888888888888, \"#fdca26\"], [1.0, \"#f0f921\"]], \"sequentialminus\": [[0.0, \"#0d0887\"], [0.1111111111111111, \"#46039f\"], [0.2222222222222222, \"#7201a8\"], [0.3333333333333333, \"#9c179e\"], [0.4444444444444444, \"#bd3786\"], [0.5555555555555556, \"#d8576b\"], [0.6666666666666666, \"#ed7953\"], [0.7777777777777778, \"#fb9f3a\"], [0.8888888888888888, \"#fdca26\"], [1.0, \"#f0f921\"]]}, \"colorway\": [\"#636efa\", \"#EF553B\", \"#00cc96\", \"#ab63fa\", \"#FFA15A\", \"#19d3f3\", \"#FF6692\", \"#B6E880\", \"#FF97FF\", \"#FECB52\"], \"font\": {\"color\": \"#2a3f5f\"}, \"geo\": {\"bgcolor\": \"white\", \"lakecolor\": \"white\", \"landcolor\": \"#E5ECF6\", \"showlakes\": true, \"showland\": true, \"subunitcolor\": \"white\"}, \"hoverlabel\": {\"align\": \"left\"}, \"hovermode\": \"closest\", \"mapbox\": {\"style\": \"light\"}, \"paper_bgcolor\": \"white\", \"plot_bgcolor\": \"#E5ECF6\", \"polar\": {\"angularaxis\": {\"gridcolor\": \"white\", \"linecolor\": \"white\", \"ticks\": \"\"}, \"bgcolor\": \"#E5ECF6\", \"radialaxis\": {\"gridcolor\": \"white\", \"linecolor\": \"white\", \"ticks\": \"\"}}, \"scene\": {\"xaxis\": {\"backgroundcolor\": \"#E5ECF6\", \"gridcolor\": \"white\", \"gridwidth\": 2, \"linecolor\": \"white\", \"showbackground\": true, \"ticks\": \"\", \"zerolinecolor\": \"white\"}, \"yaxis\": {\"backgroundcolor\": \"#E5ECF6\", \"gridcolor\": \"white\", \"gridwidth\": 2, \"linecolor\": \"white\", \"showbackground\": true, \"ticks\": \"\", \"zerolinecolor\": \"white\"}, \"zaxis\": {\"backgroundcolor\": \"#E5ECF6\", \"gridcolor\": \"white\", \"gridwidth\": 2, \"linecolor\": \"white\", \"showbackground\": true, \"ticks\": \"\", \"zerolinecolor\": \"white\"}}, \"shapedefaults\": {\"line\": {\"color\": \"#2a3f5f\"}}, \"ternary\": {\"aaxis\": {\"gridcolor\": \"white\", \"linecolor\": \"white\", \"ticks\": \"\"}, \"baxis\": {\"gridcolor\": \"white\", \"linecolor\": \"white\", \"ticks\": \"\"}, \"bgcolor\": \"#E5ECF6\", \"caxis\": {\"gridcolor\": \"white\", \"linecolor\": \"white\", \"ticks\": \"\"}}, \"title\": {\"x\": 0.05}, \"xaxis\": {\"automargin\": true, \"gridcolor\": \"white\", \"linecolor\": \"white\", \"ticks\": \"\", \"title\": {\"standoff\": 15}, \"zerolinecolor\": \"white\", \"zerolinewidth\": 2}, \"yaxis\": {\"automargin\": true, \"gridcolor\": \"white\", \"linecolor\": \"white\", \"ticks\": \"\", \"title\": {\"standoff\": 15}, \"zerolinecolor\": \"white\", \"zerolinewidth\": 2}}}, \"xaxis\": {\"anchor\": \"y\", \"domain\": [0.0, 1.0], \"title\": {\"text\": \"index\"}}, \"yaxis\": {\"anchor\": \"x\", \"domain\": [0.0, 1.0], \"title\": {\"text\": \"RSI\"}}},\n",
              "                        {\"responsive\": true}\n",
              "                    ).then(function(){\n",
              "                            \n",
              "var gd = document.getElementById('7f49c916-44e9-4930-8527-69c6a2e297aa');\n",
              "var x = new MutationObserver(function (mutations, observer) {{\n",
              "        var display = window.getComputedStyle(gd).display;\n",
              "        if (!display || display === 'none') {{\n",
              "            console.log([gd, 'removed!']);\n",
              "            Plotly.purge(gd);\n",
              "            observer.disconnect();\n",
              "        }}\n",
              "}});\n",
              "\n",
              "// Listen for the removal of the full notebook cells\n",
              "var notebookContainer = gd.closest('#notebook-container');\n",
              "if (notebookContainer) {{\n",
              "    x.observe(notebookContainer, {childList: true});\n",
              "}}\n",
              "\n",
              "// Listen for the clearing of the current output cell\n",
              "var outputEl = gd.closest('.output');\n",
              "if (outputEl) {{\n",
              "    x.observe(outputEl, {childList: true});\n",
              "}}\n",
              "\n",
              "                        })\n",
              "                };\n",
              "                \n",
              "            </script>\n",
              "        </div>\n",
              "</body>\n",
              "</html>"
            ]
          },
          "metadata": {
            "tags": []
          }
        }
      ]
    }
  ]
}